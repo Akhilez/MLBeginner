{
 "cells": [
  {
   "cell_type": "markdown",
   "metadata": {
    "collapsed": true,
    "pycharm": {
     "name": "#%% md\n"
    }
   },
   "source": [
    "# Deep Learning CS6073 Assignment 12\n",
    "    Akhil Devarashetti\n",
    "    04/22/2020\n",
    "\n",
    "### Question\n",
    "\n",
    "    DL48.py enhances a selected channel in a CNN on an input image, in this case a randomly generated one.\n",
    "    Run this with num_steps 100-300 to see what you can get.\n",
    "    Submit your screenshots showing the channel values over the steps and the final image with channel number.  \n",
    "\n",
    "    Replace the random input_img with a JPG image of your choose\n",
    "    (see DL40.py about how to read and use a JPG file) and \n",
    "    do the same and show the final image.\n"
   ]
  },
  {
   "cell_type": "markdown",
   "metadata": {
    "pycharm": {
     "name": "#%% md\n"
    }
   },
   "source": [
    "---\n",
    "# DL48.py"
   ]
  },
  {
   "cell_type": "code",
   "execution_count": 1,
   "metadata": {
    "pycharm": {
     "name": "#%%\n"
    }
   },
   "outputs": [],
   "source": [
    "import numpy as np\n",
    "import torch\n",
    "import torchvision\n",
    "import torch.nn as nn\n",
    "import torch.optim as optim\n",
    "from PIL import Image\n",
    "import matplotlib.pyplot as plt\n",
    "import torchvision.transforms as transforms"
   ]
  },
  {
   "cell_type": "code",
   "execution_count": 2,
   "metadata": {
    "pycharm": {
     "name": "#%%\n"
    }
   },
   "outputs": [],
   "source": [
    "inception3 = torchvision.models.inception_v3(pretrained=True)\n",
    "input_img = torch.randn([1, 3, 128, 128])\n",
    "unloader = transforms.ToPILImage()\n",
    "\n",
    "model = nn.Sequential()\n",
    "\n",
    "iter = inception3.children()\n",
    "for i in range(5):\n",
    "    model.add_module('layer{}'.format(i), next(next(iter).children()))"
   ]
  },
  {
   "cell_type": "code",
   "execution_count": 3,
   "metadata": {
    "pycharm": {
     "name": "#%%\n"
    }
   },
   "outputs": [
    {
     "name": "stdout",
     "output_type": "stream",
     "text": [
      "tensor(26) tensor(0.6250, grad_fn=<SelectBackward>)\n"
     ]
    }
   ],
   "source": [
    "output = model(input_img)\n",
    "a, b, c, d = output.size()\n",
    "m = torch.mean(output.view(a * b, c * d), 1)\n",
    "channel = m.argmax()\n",
    "print(channel, m[channel])\n",
    "\n",
    "optimizer = optim.LBFGS([input_img.requires_grad_()])"
   ]
  },
  {
   "cell_type": "code",
   "execution_count": 4,
   "metadata": {
    "pycharm": {
     "name": "#%%\n"
    }
   },
   "outputs": [
    {
     "name": "stdout",
     "output_type": "stream",
     "text": [
      "0 tensor(1.2373, grad_fn=<MeanBackward0>)\n",
      "1 tensor(3.3051, grad_fn=<MeanBackward0>)\n",
      "2 tensor(5.3075, grad_fn=<MeanBackward0>)\n",
      "3 tensor(7.2431, grad_fn=<MeanBackward0>)\n",
      "4 tensor(9.1090, grad_fn=<MeanBackward0>)\n",
      "5 tensor(10.9037, grad_fn=<MeanBackward0>)\n",
      "6 tensor(12.6283, grad_fn=<MeanBackward0>)\n",
      "7 tensor(14.2794, grad_fn=<MeanBackward0>)\n",
      "8 tensor(15.8561, grad_fn=<MeanBackward0>)\n",
      "9 tensor(17.3249, grad_fn=<MeanBackward0>)\n",
      "10 tensor(18.6912, grad_fn=<MeanBackward0>)\n",
      "11 tensor(19.9697, grad_fn=<MeanBackward0>)\n",
      "12 tensor(21.1532, grad_fn=<MeanBackward0>)\n",
      "13 tensor(22.2596, grad_fn=<MeanBackward0>)\n",
      "14 tensor(23.2796, grad_fn=<MeanBackward0>)\n",
      "15 tensor(24.0561, grad_fn=<MeanBackward0>)\n",
      "16 tensor(24.6380, grad_fn=<MeanBackward0>)\n",
      "17 tensor(25.1846, grad_fn=<MeanBackward0>)\n",
      "18 tensor(25.6975, grad_fn=<MeanBackward0>)\n",
      "19 tensor(26.1840, grad_fn=<MeanBackward0>)\n",
      "20 tensor(26.6474, grad_fn=<MeanBackward0>)\n",
      "21 tensor(27.0895, grad_fn=<MeanBackward0>)\n",
      "22 tensor(27.5042, grad_fn=<MeanBackward0>)\n",
      "23 tensor(27.8950, grad_fn=<MeanBackward0>)\n",
      "24 tensor(28.2728, grad_fn=<MeanBackward0>)\n",
      "25 tensor(28.6369, grad_fn=<MeanBackward0>)\n",
      "26 tensor(28.9862, grad_fn=<MeanBackward0>)\n",
      "27 tensor(29.2459, grad_fn=<MeanBackward0>)\n",
      "28 tensor(29.4502, grad_fn=<MeanBackward0>)\n",
      "29 tensor(29.6272, grad_fn=<MeanBackward0>)\n",
      "30 tensor(29.7907, grad_fn=<MeanBackward0>)\n",
      "31 tensor(29.9466, grad_fn=<MeanBackward0>)\n",
      "32 tensor(30.0961, grad_fn=<MeanBackward0>)\n",
      "33 tensor(30.2396, grad_fn=<MeanBackward0>)\n",
      "34 tensor(30.3780, grad_fn=<MeanBackward0>)\n",
      "35 tensor(30.5125, grad_fn=<MeanBackward0>)\n",
      "36 tensor(30.6421, grad_fn=<MeanBackward0>)\n",
      "37 tensor(30.7203, grad_fn=<MeanBackward0>)\n",
      "38 tensor(30.7921, grad_fn=<MeanBackward0>)\n",
      "39 tensor(30.8620, grad_fn=<MeanBackward0>)\n",
      "40 tensor(30.9296, grad_fn=<MeanBackward0>)\n",
      "41 tensor(30.9956, grad_fn=<MeanBackward0>)\n",
      "42 tensor(31.0598, grad_fn=<MeanBackward0>)\n",
      "43 tensor(31.1226, grad_fn=<MeanBackward0>)\n",
      "44 tensor(31.1838, grad_fn=<MeanBackward0>)\n",
      "45 tensor(31.2435, grad_fn=<MeanBackward0>)\n",
      "46 tensor(31.3022, grad_fn=<MeanBackward0>)\n",
      "47 tensor(31.3585, grad_fn=<MeanBackward0>)\n",
      "48 tensor(31.4127, grad_fn=<MeanBackward0>)\n",
      "49 tensor(31.4660, grad_fn=<MeanBackward0>)\n",
      "50 tensor(31.5178, grad_fn=<MeanBackward0>)\n",
      "51 tensor(31.5688, grad_fn=<MeanBackward0>)\n",
      "52 tensor(31.6185, grad_fn=<MeanBackward0>)\n",
      "53 tensor(31.6667, grad_fn=<MeanBackward0>)\n",
      "54 tensor(31.7140, grad_fn=<MeanBackward0>)\n",
      "55 tensor(31.7598, grad_fn=<MeanBackward0>)\n",
      "56 tensor(31.8029, grad_fn=<MeanBackward0>)\n",
      "57 tensor(31.8401, grad_fn=<MeanBackward0>)\n",
      "58 tensor(31.8766, grad_fn=<MeanBackward0>)\n",
      "59 tensor(31.9123, grad_fn=<MeanBackward0>)\n",
      "60 tensor(31.9333, grad_fn=<MeanBackward0>)\n",
      "61 tensor(31.9485, grad_fn=<MeanBackward0>)\n",
      "62 tensor(31.9628, grad_fn=<MeanBackward0>)\n",
      "63 tensor(31.9767, grad_fn=<MeanBackward0>)\n",
      "64 tensor(31.9901, grad_fn=<MeanBackward0>)\n",
      "65 tensor(32.0033, grad_fn=<MeanBackward0>)\n",
      "66 tensor(32.0165, grad_fn=<MeanBackward0>)\n",
      "67 tensor(32.0292, grad_fn=<MeanBackward0>)\n",
      "68 tensor(32.0417, grad_fn=<MeanBackward0>)\n",
      "69 tensor(32.0540, grad_fn=<MeanBackward0>)\n",
      "70 tensor(32.0659, grad_fn=<MeanBackward0>)\n",
      "71 tensor(32.0772, grad_fn=<MeanBackward0>)\n",
      "72 tensor(32.0883, grad_fn=<MeanBackward0>)\n",
      "73 tensor(32.0993, grad_fn=<MeanBackward0>)\n",
      "74 tensor(32.1099, grad_fn=<MeanBackward0>)\n",
      "75 tensor(32.1205, grad_fn=<MeanBackward0>)\n",
      "76 tensor(32.1309, grad_fn=<MeanBackward0>)\n",
      "77 tensor(32.1412, grad_fn=<MeanBackward0>)\n",
      "78 tensor(32.1515, grad_fn=<MeanBackward0>)\n",
      "79 tensor(32.1616, grad_fn=<MeanBackward0>)\n",
      "80 tensor(32.1716, grad_fn=<MeanBackward0>)\n",
      "81 tensor(32.1814, grad_fn=<MeanBackward0>)\n",
      "82 tensor(32.1912, grad_fn=<MeanBackward0>)\n",
      "83 tensor(32.2008, grad_fn=<MeanBackward0>)\n",
      "84 tensor(32.2104, grad_fn=<MeanBackward0>)\n",
      "85 tensor(32.2199, grad_fn=<MeanBackward0>)\n",
      "86 tensor(32.2292, grad_fn=<MeanBackward0>)\n",
      "87 tensor(32.2384, grad_fn=<MeanBackward0>)\n",
      "88 tensor(32.2475, grad_fn=<MeanBackward0>)\n",
      "89 tensor(32.2565, grad_fn=<MeanBackward0>)\n",
      "90 tensor(32.2654, grad_fn=<MeanBackward0>)\n",
      "91 tensor(32.2738, grad_fn=<MeanBackward0>)\n",
      "92 tensor(32.2822, grad_fn=<MeanBackward0>)\n",
      "93 tensor(32.2905, grad_fn=<MeanBackward0>)\n",
      "94 tensor(32.2985, grad_fn=<MeanBackward0>)\n",
      "95 tensor(32.3063, grad_fn=<MeanBackward0>)\n",
      "96 tensor(32.3139, grad_fn=<MeanBackward0>)\n",
      "97 tensor(32.3214, grad_fn=<MeanBackward0>)\n",
      "98 tensor(32.3289, grad_fn=<MeanBackward0>)\n",
      "99 tensor(32.3363, grad_fn=<MeanBackward0>)\n",
      "100 tensor(32.3436, grad_fn=<MeanBackward0>)\n",
      "101 tensor(32.3508, grad_fn=<MeanBackward0>)\n",
      "102 tensor(32.3580, grad_fn=<MeanBackward0>)\n",
      "103 tensor(32.3649, grad_fn=<MeanBackward0>)\n",
      "104 tensor(32.3718, grad_fn=<MeanBackward0>)\n",
      "105 tensor(32.3787, grad_fn=<MeanBackward0>)\n",
      "106 tensor(32.3855, grad_fn=<MeanBackward0>)\n",
      "107 tensor(32.3922, grad_fn=<MeanBackward0>)\n",
      "108 tensor(32.3988, grad_fn=<MeanBackward0>)\n",
      "109 tensor(32.4054, grad_fn=<MeanBackward0>)\n",
      "110 tensor(32.4119, grad_fn=<MeanBackward0>)\n",
      "111 tensor(32.4184, grad_fn=<MeanBackward0>)\n",
      "112 tensor(32.4248, grad_fn=<MeanBackward0>)\n",
      "113 tensor(32.4295, grad_fn=<MeanBackward0>)\n",
      "114 tensor(32.4341, grad_fn=<MeanBackward0>)\n",
      "115 tensor(32.4387, grad_fn=<MeanBackward0>)\n",
      "116 tensor(32.4433, grad_fn=<MeanBackward0>)\n",
      "117 tensor(32.4479, grad_fn=<MeanBackward0>)\n",
      "118 tensor(32.4524, grad_fn=<MeanBackward0>)\n",
      "119 tensor(32.4568, grad_fn=<MeanBackward0>)\n",
      "120 tensor(32.4611, grad_fn=<MeanBackward0>)\n",
      "121 tensor(32.4654, grad_fn=<MeanBackward0>)\n",
      "122 tensor(32.4697, grad_fn=<MeanBackward0>)\n",
      "123 tensor(32.4739, grad_fn=<MeanBackward0>)\n",
      "124 tensor(32.4781, grad_fn=<MeanBackward0>)\n",
      "125 tensor(32.4822, grad_fn=<MeanBackward0>)\n",
      "126 tensor(32.4863, grad_fn=<MeanBackward0>)\n",
      "127 tensor(32.4904, grad_fn=<MeanBackward0>)\n",
      "128 tensor(32.4944, grad_fn=<MeanBackward0>)\n",
      "129 tensor(32.4984, grad_fn=<MeanBackward0>)\n",
      "130 tensor(32.5024, grad_fn=<MeanBackward0>)\n",
      "131 tensor(32.5064, grad_fn=<MeanBackward0>)\n",
      "132 tensor(32.5103, grad_fn=<MeanBackward0>)\n",
      "133 tensor(32.5142, grad_fn=<MeanBackward0>)\n",
      "134 tensor(32.5181, grad_fn=<MeanBackward0>)\n",
      "135 tensor(32.5220, grad_fn=<MeanBackward0>)\n",
      "136 tensor(32.5258, grad_fn=<MeanBackward0>)\n",
      "137 tensor(32.5295, grad_fn=<MeanBackward0>)\n",
      "138 tensor(32.5328, grad_fn=<MeanBackward0>)\n",
      "139 tensor(32.5353, grad_fn=<MeanBackward0>)\n",
      "140 tensor(32.5378, grad_fn=<MeanBackward0>)\n",
      "141 tensor(32.5403, grad_fn=<MeanBackward0>)\n",
      "142 tensor(32.5427, grad_fn=<MeanBackward0>)\n",
      "143 tensor(32.5451, grad_fn=<MeanBackward0>)\n",
      "144 tensor(32.5475, grad_fn=<MeanBackward0>)\n",
      "145 tensor(32.5499, grad_fn=<MeanBackward0>)\n",
      "146 tensor(32.5522, grad_fn=<MeanBackward0>)\n",
      "147 tensor(32.5546, grad_fn=<MeanBackward0>)\n",
      "148 tensor(32.5570, grad_fn=<MeanBackward0>)\n",
      "149 tensor(32.5593, grad_fn=<MeanBackward0>)\n",
      "150 tensor(32.5616, grad_fn=<MeanBackward0>)\n",
      "151 tensor(32.5640, grad_fn=<MeanBackward0>)\n",
      "152 tensor(32.5663, grad_fn=<MeanBackward0>)\n",
      "153 tensor(32.5687, grad_fn=<MeanBackward0>)\n",
      "154 tensor(32.5710, grad_fn=<MeanBackward0>)\n",
      "155 tensor(32.5733, grad_fn=<MeanBackward0>)\n",
      "156 tensor(32.5756, grad_fn=<MeanBackward0>)\n",
      "157 tensor(32.5779, grad_fn=<MeanBackward0>)\n",
      "158 tensor(32.5802, grad_fn=<MeanBackward0>)\n",
      "159 tensor(32.5825, grad_fn=<MeanBackward0>)\n",
      "160 tensor(32.5848, grad_fn=<MeanBackward0>)\n",
      "161 tensor(32.5871, grad_fn=<MeanBackward0>)\n",
      "162 tensor(32.5894, grad_fn=<MeanBackward0>)\n",
      "163 tensor(32.5916, grad_fn=<MeanBackward0>)\n",
      "164 tensor(32.5939, grad_fn=<MeanBackward0>)\n",
      "165 tensor(32.5962, grad_fn=<MeanBackward0>)\n",
      "166 tensor(32.5984, grad_fn=<MeanBackward0>)\n",
      "167 tensor(32.6006, grad_fn=<MeanBackward0>)\n",
      "168 tensor(32.6028, grad_fn=<MeanBackward0>)\n",
      "169 tensor(32.6050, grad_fn=<MeanBackward0>)\n",
      "170 tensor(32.6072, grad_fn=<MeanBackward0>)\n",
      "171 tensor(32.6094, grad_fn=<MeanBackward0>)\n",
      "172 tensor(32.6115, grad_fn=<MeanBackward0>)\n",
      "173 tensor(32.6137, grad_fn=<MeanBackward0>)\n",
      "174 tensor(32.6158, grad_fn=<MeanBackward0>)\n",
      "175 tensor(32.6180, grad_fn=<MeanBackward0>)\n",
      "176 tensor(32.6201, grad_fn=<MeanBackward0>)\n",
      "177 tensor(32.6222, grad_fn=<MeanBackward0>)\n",
      "178 tensor(32.6242, grad_fn=<MeanBackward0>)\n",
      "179 tensor(32.6263, grad_fn=<MeanBackward0>)\n",
      "180 tensor(32.6284, grad_fn=<MeanBackward0>)\n",
      "181 tensor(32.6304, grad_fn=<MeanBackward0>)\n",
      "182 tensor(32.6325, grad_fn=<MeanBackward0>)\n",
      "183 tensor(32.6345, grad_fn=<MeanBackward0>)\n",
      "184 tensor(32.6366, grad_fn=<MeanBackward0>)\n"
     ]
    },
    {
     "name": "stdout",
     "output_type": "stream",
     "text": [
      "185 tensor(32.6386, grad_fn=<MeanBackward0>)\n",
      "186 tensor(32.6407, grad_fn=<MeanBackward0>)\n",
      "187 tensor(32.6427, grad_fn=<MeanBackward0>)\n",
      "188 tensor(32.6447, grad_fn=<MeanBackward0>)\n",
      "189 tensor(32.6468, grad_fn=<MeanBackward0>)\n",
      "190 tensor(32.6488, grad_fn=<MeanBackward0>)\n",
      "191 tensor(32.6508, grad_fn=<MeanBackward0>)\n",
      "192 tensor(32.6528, grad_fn=<MeanBackward0>)\n",
      "193 tensor(32.6548, grad_fn=<MeanBackward0>)\n",
      "194 tensor(32.6568, grad_fn=<MeanBackward0>)\n",
      "195 tensor(32.6588, grad_fn=<MeanBackward0>)\n",
      "196 tensor(32.6608, grad_fn=<MeanBackward0>)\n",
      "197 tensor(32.6628, grad_fn=<MeanBackward0>)\n",
      "198 tensor(32.6648, grad_fn=<MeanBackward0>)\n",
      "199 tensor(32.6668, grad_fn=<MeanBackward0>)\n",
      "200 tensor(32.6687, grad_fn=<MeanBackward0>)\n",
      "201 tensor(32.6707, grad_fn=<MeanBackward0>)\n",
      "202 tensor(32.6727, grad_fn=<MeanBackward0>)\n",
      "203 tensor(32.6746, grad_fn=<MeanBackward0>)\n",
      "204 tensor(32.6766, grad_fn=<MeanBackward0>)\n",
      "205 tensor(32.6785, grad_fn=<MeanBackward0>)\n",
      "206 tensor(32.6805, grad_fn=<MeanBackward0>)\n",
      "207 tensor(32.6824, grad_fn=<MeanBackward0>)\n",
      "208 tensor(32.6843, grad_fn=<MeanBackward0>)\n",
      "209 tensor(32.6863, grad_fn=<MeanBackward0>)\n",
      "210 tensor(32.6882, grad_fn=<MeanBackward0>)\n",
      "211 tensor(32.6901, grad_fn=<MeanBackward0>)\n",
      "212 tensor(32.6920, grad_fn=<MeanBackward0>)\n",
      "213 tensor(32.6939, grad_fn=<MeanBackward0>)\n",
      "214 tensor(32.6958, grad_fn=<MeanBackward0>)\n",
      "215 tensor(32.6977, grad_fn=<MeanBackward0>)\n",
      "216 tensor(32.6996, grad_fn=<MeanBackward0>)\n",
      "217 tensor(32.7015, grad_fn=<MeanBackward0>)\n",
      "218 tensor(32.7034, grad_fn=<MeanBackward0>)\n",
      "219 tensor(32.7053, grad_fn=<MeanBackward0>)\n",
      "220 tensor(32.7071, grad_fn=<MeanBackward0>)\n",
      "221 tensor(32.7090, grad_fn=<MeanBackward0>)\n",
      "222 tensor(32.7108, grad_fn=<MeanBackward0>)\n",
      "223 tensor(32.7127, grad_fn=<MeanBackward0>)\n",
      "224 tensor(32.7145, grad_fn=<MeanBackward0>)\n",
      "225 tensor(32.7163, grad_fn=<MeanBackward0>)\n",
      "226 tensor(32.7182, grad_fn=<MeanBackward0>)\n",
      "227 tensor(32.7200, grad_fn=<MeanBackward0>)\n",
      "228 tensor(32.7218, grad_fn=<MeanBackward0>)\n",
      "229 tensor(32.7236, grad_fn=<MeanBackward0>)\n",
      "230 tensor(32.7254, grad_fn=<MeanBackward0>)\n",
      "231 tensor(32.7272, grad_fn=<MeanBackward0>)\n",
      "232 tensor(32.7290, grad_fn=<MeanBackward0>)\n",
      "233 tensor(32.7308, grad_fn=<MeanBackward0>)\n",
      "234 tensor(32.7326, grad_fn=<MeanBackward0>)\n",
      "235 tensor(32.7344, grad_fn=<MeanBackward0>)\n",
      "236 tensor(32.7362, grad_fn=<MeanBackward0>)\n",
      "237 tensor(32.7380, grad_fn=<MeanBackward0>)\n",
      "238 tensor(32.7398, grad_fn=<MeanBackward0>)\n",
      "239 tensor(32.7416, grad_fn=<MeanBackward0>)\n",
      "240 tensor(32.7433, grad_fn=<MeanBackward0>)\n",
      "241 tensor(32.7451, grad_fn=<MeanBackward0>)\n",
      "242 tensor(32.7469, grad_fn=<MeanBackward0>)\n",
      "243 tensor(32.7486, grad_fn=<MeanBackward0>)\n",
      "244 tensor(32.7504, grad_fn=<MeanBackward0>)\n",
      "245 tensor(32.7521, grad_fn=<MeanBackward0>)\n",
      "246 tensor(32.7539, grad_fn=<MeanBackward0>)\n",
      "247 tensor(32.7556, grad_fn=<MeanBackward0>)\n",
      "248 tensor(32.7573, grad_fn=<MeanBackward0>)\n",
      "249 tensor(32.7590, grad_fn=<MeanBackward0>)\n"
     ]
    }
   ],
   "source": [
    "for s in range(250):\n",
    "    \n",
    "    def closure():\n",
    "        input_img.data.clamp_(0, 1)\n",
    "\n",
    "        optimizer.zero_grad()\n",
    "        output = model(input_img)\n",
    "        channelvalue = -torch.mean(output[0][channel])\n",
    "        channelvalue.backward()\n",
    "        return channelvalue\n",
    "\n",
    "    optimizer.step(closure)\n",
    "    print(s, torch.mean(model(input_img)[0][channel]))\n",
    "    "
   ]
  },
  {
   "cell_type": "code",
   "execution_count": 5,
   "metadata": {
    "pycharm": {
     "name": "#%%\n"
    }
   },
   "outputs": [
    {
     "data": {
      "image/png": "[encoded data removed]",
      "text/plain": [
       "<Figure size 432x288 with 1 Axes>"
      ]
     },
     "metadata": {
      "needs_background": "light"
     },
     "output_type": "display_data"
    }
   ],
   "source": [
    "plt.figure()\n",
    "plt.imshow(unloader(input_img.squeeze(0)))\n",
    "plt.title('channel {}'.format(channel))\n",
    "plt.show()"
   ]
  },
  {
   "cell_type": "code",
   "execution_count": null,
   "outputs": [],
   "source": [
    "imsize= 128\n",
    "\n",
    "loader = transforms.Compose([transforms.Resize(imsize),  # scale imported image    \n",
    "                             transforms.ToTensor()])  # transform it into a torch tensor\n",
    "def image_loader(image_name):    \n",
    "    image = Image.open(image_name)    # fake batch dimension required to fit network's input dimensions    \n",
    "    image = loader(image).unsqueeze(0)    \n",
    "    return image\n"
   ],
   "metadata": {
    "collapsed": false,
    "pycharm": {
     "name": "#%%\n"
    }
   }
  },
  {
   "cell_type": "code",
   "execution_count": null,
   "outputs": [],
   "source": [
    "input_img = image_loader(\"img1.jpg\")"
   ],
   "metadata": {
    "collapsed": false,
    "pycharm": {
     "name": "#%%\n"
    }
   }
  },
  {
   "cell_type": "code",
   "execution_count": null,
   "outputs": [],
   "source": [
    "input_img.shape"
   ],
   "metadata": {
    "collapsed": false,
    "pycharm": {
     "name": "#%%\n"
    }
   }
  },
  {
   "cell_type": "code",
   "execution_count": null,
   "outputs": [],
   "source": [
    "output = model(input_img)\n",
    "a, b, c, d = output.size()\n",
    "m = torch.mean(output.view(a * b, c * d), 1)\n",
    "channel = m.argmax()\n",
    "print(channel, m[channel])\n",
    "\n",
    "optimizer = optim.LBFGS([input_img.requires_grad_()])"
   ],
   "metadata": {
    "collapsed": false,
    "pycharm": {
     "name": "#%%\n"
    }
   }
  },
  {
   "cell_type": "code",
   "execution_count": null,
   "outputs": [],
   "source": [
    "for s in range(250):\n",
    "    \n",
    "    def closure():\n",
    "        input_img.data.clamp_(0, 1)\n",
    "\n",
    "        optimizer.zero_grad()\n",
    "        output = model(input_img)\n",
    "        channelvalue = -torch.mean(output[0][channel])\n",
    "        channelvalue.backward()\n",
    "        return channelvalue\n",
    "\n",
    "    optimizer.step(closure)\n",
    "    print(s, torch.mean(model(input_img)[0][channel]))"
   ],
   "metadata": {
    "collapsed": false,
    "pycharm": {
     "name": "#%%\n"
    }
   }
  },
  {
   "cell_type": "code",
   "execution_count": null,
   "outputs": [],
   "source": [
    "plt.figure()\n",
    "plt.imshow(unloader(input_img.squeeze(0)))\n",
    "plt.title('channel {}'.format(channel))\n",
    "plt.show()"
   ],
   "metadata": {
    "collapsed": false,
    "pycharm": {
     "name": "#%%\n"
    }
   }
  },
  {
   "cell_type": "code",
   "execution_count": null,
   "outputs": [],
   "source": [],
   "metadata": {
    "collapsed": false,
    "pycharm": {
     "name": "#%%\n"
    }
   }
  },
  {
   "cell_type": "code",
   "execution_count": 6,
   "metadata": {},
   "outputs": [],
   "source": []
  },
  {
   "cell_type": "code",
   "execution_count": 7,
   "metadata": {},
   "outputs": [],
   "source": [
    "input_img = image_loader(\"img1.jpg\")"
   ]
  },
  {
   "cell_type": "code",
   "execution_count": 8,
   "metadata": {},
   "outputs": [
    {
     "data": {
      "text/plain": [
       "torch.Size([1, 3, 128, 128])"
      ]
     },
     "execution_count": 8,
     "metadata": {},
     "output_type": "execute_result"
    }
   ],
   "source": [
    "input_img.shape"
   ]
  },
  {
   "cell_type": "code",
   "execution_count": 9,
   "metadata": {},
   "outputs": [
    {
     "name": "stdout",
     "output_type": "stream",
     "text": [
      "tensor(112) tensor(56.0568, grad_fn=<SelectBackward>)\n"
     ]
    }
   ],
   "source": [
    "output = model(input_img)\n",
    "a, b, c, d = output.size()\n",
    "m = torch.mean(output.view(a * b, c * d), 1)\n",
    "channel = m.argmax()\n",
    "print(channel, m[channel])\n",
    "\n",
    "optimizer = optim.LBFGS([input_img.requires_grad_()])"
   ]
  },
  {
   "cell_type": "code",
   "execution_count": 10,
   "metadata": {},
   "outputs": [
    {
     "name": "stdout",
     "output_type": "stream",
     "text": [
      "0 tensor(62.5387, grad_fn=<MeanBackward0>)\n",
      "1 tensor(68.9060, grad_fn=<MeanBackward0>)\n",
      "2 tensor(74.9167, grad_fn=<MeanBackward0>)\n",
      "3 tensor(80.5329, grad_fn=<MeanBackward0>)\n",
      "4 tensor(85.6792, grad_fn=<MeanBackward0>)\n",
      "5 tensor(90.2966, grad_fn=<MeanBackward0>)\n",
      "6 tensor(94.3905, grad_fn=<MeanBackward0>)\n",
      "7 tensor(98.0160, grad_fn=<MeanBackward0>)\n",
      "8 tensor(101.2474, grad_fn=<MeanBackward0>)\n",
      "9 tensor(104.1155, grad_fn=<MeanBackward0>)\n",
      "10 tensor(106.6338, grad_fn=<MeanBackward0>)\n",
      "11 tensor(108.7389, grad_fn=<MeanBackward0>)\n",
      "12 tensor(110.4581, grad_fn=<MeanBackward0>)\n",
      "13 tensor(111.7804, grad_fn=<MeanBackward0>)\n",
      "14 tensor(112.7880, grad_fn=<MeanBackward0>)\n",
      "15 tensor(113.5589, grad_fn=<MeanBackward0>)\n",
      "16 tensor(114.0639, grad_fn=<MeanBackward0>)\n",
      "17 tensor(114.4438, grad_fn=<MeanBackward0>)\n",
      "18 tensor(114.7759, grad_fn=<MeanBackward0>)\n",
      "19 tensor(115.0667, grad_fn=<MeanBackward0>)\n",
      "20 tensor(115.2895, grad_fn=<MeanBackward0>)\n",
      "21 tensor(115.4440, grad_fn=<MeanBackward0>)\n",
      "22 tensor(115.5804, grad_fn=<MeanBackward0>)\n",
      "23 tensor(115.7074, grad_fn=<MeanBackward0>)\n",
      "24 tensor(115.8269, grad_fn=<MeanBackward0>)\n",
      "25 tensor(115.9402, grad_fn=<MeanBackward0>)\n",
      "26 tensor(116.0461, grad_fn=<MeanBackward0>)\n",
      "27 tensor(116.1449, grad_fn=<MeanBackward0>)\n",
      "28 tensor(116.2380, grad_fn=<MeanBackward0>)\n",
      "29 tensor(116.3251, grad_fn=<MeanBackward0>)\n",
      "30 tensor(116.4058, grad_fn=<MeanBackward0>)\n",
      "31 tensor(116.4782, grad_fn=<MeanBackward0>)\n",
      "32 tensor(116.5381, grad_fn=<MeanBackward0>)\n",
      "33 tensor(116.5847, grad_fn=<MeanBackward0>)\n",
      "34 tensor(116.6265, grad_fn=<MeanBackward0>)\n",
      "35 tensor(116.6662, grad_fn=<MeanBackward0>)\n",
      "36 tensor(116.7040, grad_fn=<MeanBackward0>)\n",
      "37 tensor(116.7403, grad_fn=<MeanBackward0>)\n",
      "38 tensor(116.7754, grad_fn=<MeanBackward0>)\n",
      "39 tensor(116.8092, grad_fn=<MeanBackward0>)\n",
      "40 tensor(116.8417, grad_fn=<MeanBackward0>)\n",
      "41 tensor(116.8728, grad_fn=<MeanBackward0>)\n",
      "42 tensor(116.9027, grad_fn=<MeanBackward0>)\n",
      "43 tensor(116.9315, grad_fn=<MeanBackward0>)\n",
      "44 tensor(116.9591, grad_fn=<MeanBackward0>)\n",
      "45 tensor(116.9857, grad_fn=<MeanBackward0>)\n",
      "46 tensor(117.0113, grad_fn=<MeanBackward0>)\n",
      "47 tensor(117.0356, grad_fn=<MeanBackward0>)\n",
      "48 tensor(117.0585, grad_fn=<MeanBackward0>)\n",
      "49 tensor(117.0796, grad_fn=<MeanBackward0>)\n",
      "50 tensor(117.0993, grad_fn=<MeanBackward0>)\n",
      "51 tensor(117.1174, grad_fn=<MeanBackward0>)\n",
      "52 tensor(117.1338, grad_fn=<MeanBackward0>)\n",
      "53 tensor(117.1474, grad_fn=<MeanBackward0>)\n",
      "54 tensor(117.1581, grad_fn=<MeanBackward0>)\n",
      "55 tensor(117.1667, grad_fn=<MeanBackward0>)\n",
      "56 tensor(117.1744, grad_fn=<MeanBackward0>)\n",
      "57 tensor(117.1818, grad_fn=<MeanBackward0>)\n",
      "58 tensor(117.1889, grad_fn=<MeanBackward0>)\n",
      "59 tensor(117.1956, grad_fn=<MeanBackward0>)\n",
      "60 tensor(117.2020, grad_fn=<MeanBackward0>)\n",
      "61 tensor(117.2081, grad_fn=<MeanBackward0>)\n",
      "62 tensor(117.2140, grad_fn=<MeanBackward0>)\n",
      "63 tensor(117.2197, grad_fn=<MeanBackward0>)\n",
      "64 tensor(117.2251, grad_fn=<MeanBackward0>)\n",
      "65 tensor(117.2303, grad_fn=<MeanBackward0>)\n",
      "66 tensor(117.2351, grad_fn=<MeanBackward0>)\n",
      "67 tensor(117.2398, grad_fn=<MeanBackward0>)\n",
      "68 tensor(117.2442, grad_fn=<MeanBackward0>)\n",
      "69 tensor(117.2485, grad_fn=<MeanBackward0>)\n",
      "70 tensor(117.2525, grad_fn=<MeanBackward0>)\n",
      "71 tensor(117.2564, grad_fn=<MeanBackward0>)\n",
      "72 tensor(117.2600, grad_fn=<MeanBackward0>)\n",
      "73 tensor(117.2636, grad_fn=<MeanBackward0>)\n",
      "74 tensor(117.2671, grad_fn=<MeanBackward0>)\n",
      "75 tensor(117.2706, grad_fn=<MeanBackward0>)\n",
      "76 tensor(117.2738, grad_fn=<MeanBackward0>)\n",
      "77 tensor(117.2770, grad_fn=<MeanBackward0>)\n",
      "78 tensor(117.2800, grad_fn=<MeanBackward0>)\n",
      "79 tensor(117.2829, grad_fn=<MeanBackward0>)\n",
      "80 tensor(117.2858, grad_fn=<MeanBackward0>)\n",
      "81 tensor(117.2886, grad_fn=<MeanBackward0>)\n",
      "82 tensor(117.2913, grad_fn=<MeanBackward0>)\n",
      "83 tensor(117.2939, grad_fn=<MeanBackward0>)\n",
      "84 tensor(117.2964, grad_fn=<MeanBackward0>)\n",
      "85 tensor(117.2989, grad_fn=<MeanBackward0>)\n",
      "86 tensor(117.3012, grad_fn=<MeanBackward0>)\n",
      "87 tensor(117.3034, grad_fn=<MeanBackward0>)\n",
      "88 tensor(117.3055, grad_fn=<MeanBackward0>)\n",
      "89 tensor(117.3076, grad_fn=<MeanBackward0>)\n",
      "90 tensor(117.3096, grad_fn=<MeanBackward0>)\n",
      "91 tensor(117.3115, grad_fn=<MeanBackward0>)\n",
      "92 tensor(117.3133, grad_fn=<MeanBackward0>)\n",
      "93 tensor(117.3151, grad_fn=<MeanBackward0>)\n",
      "94 tensor(117.3167, grad_fn=<MeanBackward0>)\n",
      "95 tensor(117.3183, grad_fn=<MeanBackward0>)\n",
      "96 tensor(117.3199, grad_fn=<MeanBackward0>)\n",
      "97 tensor(117.3214, grad_fn=<MeanBackward0>)\n",
      "98 tensor(117.3229, grad_fn=<MeanBackward0>)\n",
      "99 tensor(117.3243, grad_fn=<MeanBackward0>)\n",
      "100 tensor(117.3257, grad_fn=<MeanBackward0>)\n",
      "101 tensor(117.3271, grad_fn=<MeanBackward0>)\n",
      "102 tensor(117.3284, grad_fn=<MeanBackward0>)\n",
      "103 tensor(117.3295, grad_fn=<MeanBackward0>)\n",
      "104 tensor(117.3307, grad_fn=<MeanBackward0>)\n",
      "105 tensor(117.3318, grad_fn=<MeanBackward0>)\n",
      "106 tensor(117.3329, grad_fn=<MeanBackward0>)\n",
      "107 tensor(117.3340, grad_fn=<MeanBackward0>)\n",
      "108 tensor(117.3350, grad_fn=<MeanBackward0>)\n",
      "109 tensor(117.3361, grad_fn=<MeanBackward0>)\n",
      "110 tensor(117.3371, grad_fn=<MeanBackward0>)\n",
      "111 tensor(117.3381, grad_fn=<MeanBackward0>)\n",
      "112 tensor(117.3391, grad_fn=<MeanBackward0>)\n",
      "113 tensor(117.3401, grad_fn=<MeanBackward0>)\n",
      "114 tensor(117.3410, grad_fn=<MeanBackward0>)\n",
      "115 tensor(117.3419, grad_fn=<MeanBackward0>)\n",
      "116 tensor(117.3428, grad_fn=<MeanBackward0>)\n",
      "117 tensor(117.3437, grad_fn=<MeanBackward0>)\n",
      "118 tensor(117.3445, grad_fn=<MeanBackward0>)\n",
      "119 tensor(117.3454, grad_fn=<MeanBackward0>)\n",
      "120 tensor(117.3462, grad_fn=<MeanBackward0>)\n",
      "121 tensor(117.3470, grad_fn=<MeanBackward0>)\n",
      "122 tensor(117.3479, grad_fn=<MeanBackward0>)\n",
      "123 tensor(117.3486, grad_fn=<MeanBackward0>)\n",
      "124 tensor(117.3494, grad_fn=<MeanBackward0>)\n",
      "125 tensor(117.3502, grad_fn=<MeanBackward0>)\n",
      "126 tensor(117.3509, grad_fn=<MeanBackward0>)\n",
      "127 tensor(117.3516, grad_fn=<MeanBackward0>)\n",
      "128 tensor(117.3523, grad_fn=<MeanBackward0>)\n",
      "129 tensor(117.3530, grad_fn=<MeanBackward0>)\n",
      "130 tensor(117.3537, grad_fn=<MeanBackward0>)\n",
      "131 tensor(117.3544, grad_fn=<MeanBackward0>)\n",
      "132 tensor(117.3551, grad_fn=<MeanBackward0>)\n",
      "133 tensor(117.3557, grad_fn=<MeanBackward0>)\n",
      "134 tensor(117.3564, grad_fn=<MeanBackward0>)\n",
      "135 tensor(117.3570, grad_fn=<MeanBackward0>)\n",
      "136 tensor(117.3577, grad_fn=<MeanBackward0>)\n",
      "137 tensor(117.3582, grad_fn=<MeanBackward0>)\n",
      "138 tensor(117.3588, grad_fn=<MeanBackward0>)\n",
      "139 tensor(117.3594, grad_fn=<MeanBackward0>)\n",
      "140 tensor(117.3600, grad_fn=<MeanBackward0>)\n",
      "141 tensor(117.3605, grad_fn=<MeanBackward0>)\n",
      "142 tensor(117.3611, grad_fn=<MeanBackward0>)\n",
      "143 tensor(117.3617, grad_fn=<MeanBackward0>)\n",
      "144 tensor(117.3622, grad_fn=<MeanBackward0>)\n",
      "145 tensor(117.3627, grad_fn=<MeanBackward0>)\n",
      "146 tensor(117.3632, grad_fn=<MeanBackward0>)\n",
      "147 tensor(117.0093, grad_fn=<MeanBackward0>)\n",
      "148 tensor(117.0094, grad_fn=<MeanBackward0>)\n",
      "149 tensor(117.3642, grad_fn=<MeanBackward0>)\n",
      "150 tensor(117.3647, grad_fn=<MeanBackward0>)\n",
      "151 tensor(117.3652, grad_fn=<MeanBackward0>)\n",
      "152 tensor(117.0109, grad_fn=<MeanBackward0>)\n",
      "153 tensor(117.3657, grad_fn=<MeanBackward0>)\n",
      "154 tensor(117.3661, grad_fn=<MeanBackward0>)\n",
      "155 tensor(117.0118, grad_fn=<MeanBackward0>)\n",
      "156 tensor(117.3666, grad_fn=<MeanBackward0>)\n",
      "157 tensor(117.0124, grad_fn=<MeanBackward0>)\n",
      "158 tensor(117.3672, grad_fn=<MeanBackward0>)\n",
      "159 tensor(117.0128, grad_fn=<MeanBackward0>)\n",
      "160 tensor(117.3677, grad_fn=<MeanBackward0>)\n",
      "161 tensor(117.0135, grad_fn=<MeanBackward0>)\n",
      "162 tensor(117.0139, grad_fn=<MeanBackward0>)\n",
      "163 tensor(117.3686, grad_fn=<MeanBackward0>)\n",
      "164 tensor(117.0143, grad_fn=<MeanBackward0>)\n",
      "165 tensor(117.0146, grad_fn=<MeanBackward0>)\n",
      "166 tensor(117.0147, grad_fn=<MeanBackward0>)\n",
      "167 tensor(117.0150, grad_fn=<MeanBackward0>)\n",
      "168 tensor(117.0153, grad_fn=<MeanBackward0>)\n",
      "169 tensor(117.0157, grad_fn=<MeanBackward0>)\n",
      "170 tensor(117.0158, grad_fn=<MeanBackward0>)\n",
      "171 tensor(117.3705, grad_fn=<MeanBackward0>)\n",
      "172 tensor(117.0163, grad_fn=<MeanBackward0>)\n",
      "173 tensor(117.0164, grad_fn=<MeanBackward0>)\n",
      "174 tensor(117.0166, grad_fn=<MeanBackward0>)\n",
      "175 tensor(117.0167, grad_fn=<MeanBackward0>)\n",
      "176 tensor(117.0167, grad_fn=<MeanBackward0>)\n",
      "177 tensor(117.0169, grad_fn=<MeanBackward0>)\n",
      "178 tensor(117.0171, grad_fn=<MeanBackward0>)\n",
      "179 tensor(117.0171, grad_fn=<MeanBackward0>)\n",
      "180 tensor(117.0173, grad_fn=<MeanBackward0>)\n"
     ]
    },
    {
     "name": "stdout",
     "output_type": "stream",
     "text": [
      "181 tensor(117.3720, grad_fn=<MeanBackward0>)\n",
      "182 tensor(117.0178, grad_fn=<MeanBackward0>)\n",
      "183 tensor(117.0180, grad_fn=<MeanBackward0>)\n",
      "184 tensor(117.0180, grad_fn=<MeanBackward0>)\n",
      "185 tensor(117.3727, grad_fn=<MeanBackward0>)\n",
      "186 tensor(117.0185, grad_fn=<MeanBackward0>)\n",
      "187 tensor(117.0187, grad_fn=<MeanBackward0>)\n",
      "188 tensor(117.0190, grad_fn=<MeanBackward0>)\n",
      "189 tensor(117.0190, grad_fn=<MeanBackward0>)\n",
      "190 tensor(117.0190, grad_fn=<MeanBackward0>)\n",
      "191 tensor(117.0191, grad_fn=<MeanBackward0>)\n",
      "192 tensor(117.0192, grad_fn=<MeanBackward0>)\n",
      "193 tensor(117.0193, grad_fn=<MeanBackward0>)\n",
      "194 tensor(117.0194, grad_fn=<MeanBackward0>)\n",
      "195 tensor(117.0194, grad_fn=<MeanBackward0>)\n",
      "196 tensor(117.0195, grad_fn=<MeanBackward0>)\n",
      "197 tensor(117.0195, grad_fn=<MeanBackward0>)\n",
      "198 tensor(117.0196, grad_fn=<MeanBackward0>)\n",
      "199 tensor(117.0197, grad_fn=<MeanBackward0>)\n",
      "200 tensor(117.0198, grad_fn=<MeanBackward0>)\n",
      "201 tensor(117.0199, grad_fn=<MeanBackward0>)\n",
      "202 tensor(117.0199, grad_fn=<MeanBackward0>)\n",
      "203 tensor(117.0199, grad_fn=<MeanBackward0>)\n",
      "204 tensor(117.0200, grad_fn=<MeanBackward0>)\n",
      "205 tensor(117.0200, grad_fn=<MeanBackward0>)\n",
      "206 tensor(117.0201, grad_fn=<MeanBackward0>)\n",
      "207 tensor(117.0201, grad_fn=<MeanBackward0>)\n",
      "208 tensor(117.0201, grad_fn=<MeanBackward0>)\n",
      "209 tensor(117.0201, grad_fn=<MeanBackward0>)\n",
      "210 tensor(117.0202, grad_fn=<MeanBackward0>)\n",
      "211 tensor(117.0202, grad_fn=<MeanBackward0>)\n",
      "212 tensor(117.0203, grad_fn=<MeanBackward0>)\n",
      "213 tensor(117.0203, grad_fn=<MeanBackward0>)\n",
      "214 tensor(117.0203, grad_fn=<MeanBackward0>)\n",
      "215 tensor(117.0204, grad_fn=<MeanBackward0>)\n",
      "216 tensor(117.0205, grad_fn=<MeanBackward0>)\n",
      "217 tensor(117.0206, grad_fn=<MeanBackward0>)\n",
      "218 tensor(117.0206, grad_fn=<MeanBackward0>)\n",
      "219 tensor(117.0206, grad_fn=<MeanBackward0>)\n",
      "220 tensor(117.0207, grad_fn=<MeanBackward0>)\n",
      "221 tensor(117.0207, grad_fn=<MeanBackward0>)\n",
      "222 tensor(117.0207, grad_fn=<MeanBackward0>)\n",
      "223 tensor(117.0208, grad_fn=<MeanBackward0>)\n",
      "224 tensor(117.0209, grad_fn=<MeanBackward0>)\n",
      "225 tensor(117.0210, grad_fn=<MeanBackward0>)\n",
      "226 tensor(117.0210, grad_fn=<MeanBackward0>)\n",
      "227 tensor(117.0211, grad_fn=<MeanBackward0>)\n",
      "228 tensor(117.0212, grad_fn=<MeanBackward0>)\n",
      "229 tensor(117.0212, grad_fn=<MeanBackward0>)\n",
      "230 tensor(117.0213, grad_fn=<MeanBackward0>)\n",
      "231 tensor(117.0213, grad_fn=<MeanBackward0>)\n",
      "232 tensor(117.0213, grad_fn=<MeanBackward0>)\n",
      "233 tensor(117.0213, grad_fn=<MeanBackward0>)\n",
      "234 tensor(117.0214, grad_fn=<MeanBackward0>)\n",
      "235 tensor(117.0214, grad_fn=<MeanBackward0>)\n",
      "236 tensor(117.0215, grad_fn=<MeanBackward0>)\n",
      "237 tensor(117.0215, grad_fn=<MeanBackward0>)\n",
      "238 tensor(117.0215, grad_fn=<MeanBackward0>)\n",
      "239 tensor(117.0216, grad_fn=<MeanBackward0>)\n",
      "240 tensor(117.0216, grad_fn=<MeanBackward0>)\n",
      "241 tensor(117.0217, grad_fn=<MeanBackward0>)\n",
      "242 tensor(117.0217, grad_fn=<MeanBackward0>)\n",
      "243 tensor(117.0217, grad_fn=<MeanBackward0>)\n",
      "244 tensor(117.0217, grad_fn=<MeanBackward0>)\n",
      "245 tensor(117.0218, grad_fn=<MeanBackward0>)\n",
      "246 tensor(117.0218, grad_fn=<MeanBackward0>)\n",
      "247 tensor(117.0218, grad_fn=<MeanBackward0>)\n",
      "248 tensor(117.0219, grad_fn=<MeanBackward0>)\n",
      "249 tensor(117.0219, grad_fn=<MeanBackward0>)\n"
     ]
    }
   ],
   "source": [
    "for s in range(250):\n",
    "    \n",
    "    def closure():\n",
    "        input_img.data.clamp_(0, 1)\n",
    "\n",
    "        optimizer.zero_grad()\n",
    "        output = model(input_img)\n",
    "        channelvalue = -torch.mean(output[0][channel])\n",
    "        channelvalue.backward()\n",
    "        return channelvalue\n",
    "\n",
    "    optimizer.step(closure)\n",
    "    print(s, torch.mean(model(input_img)[0][channel]))"
   ]
  },
  {
   "cell_type": "code",
   "execution_count": 11,
   "metadata": {},
   "outputs": [
    {
     "data": {
      "image/png": "[encoded data removed]",
      "text/plain": [
       "<Figure size 432x288 with 1 Axes>"
      ]
     },
     "metadata": {
      "needs_background": "light"
     },
     "output_type": "display_data"
    }
   ],
   "source": [
    "plt.figure()\n",
    "plt.imshow(unloader(input_img.squeeze(0)))\n",
    "plt.title('channel {}'.format(channel))\n",
    "plt.show()"
   ]
  },
  {
   "cell_type": "code",
   "execution_count": null,
   "metadata": {},
   "outputs": [],
   "source": []
  }
 ],
 "metadata": {
  "kernelspec": {
   "display_name": "Python 3",
   "language": "python",
   "name": "python3"
  },
  "language_info": {
   "codemirror_mode": {
    "name": "ipython",
    "version": 3
   },
   "file_extension": ".py",
   "mimetype": "text/x-python",
   "name": "python",
   "nbconvert_exporter": "python",
   "pygments_lexer": "ipython3",
   "version": "3.6.8"
  },
  "pycharm": {
   "stem_cell": {
    "cell_type": "raw",
    "source": [],
    "metadata": {
     "collapsed": false
    }
   }
  }
 },
 "nbformat": 4,
 "nbformat_minor": 1
}