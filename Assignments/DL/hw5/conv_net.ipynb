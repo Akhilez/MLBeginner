{
 "cells": [
  {
   "cell_type": "markdown",
   "metadata": {
    "pycharm": {
     "name": "#%% md\n"
    }
   },
   "source": [
    "# Deep Learning Assignment 5\n",
    "    Akhil Devarashetti\n",
    "    M13471127\n",
    "    01/29/2020\n",
    "    \n",
    "### Question:\n",
    "DL11.py is to do what DL2.py does with an elaborate convolutional network that we also used in class and a quiz. Run it to see if it is any good.\n",
    "Modify DL11.py according to Aurelien Geron as follows:\n",
    "    1. Change conv1 to an nn.Conv2d with output channel number 32, reduce the kernel size to 3, and add padding (padding=1).\n",
    "    2. Change conv2 to an nn.Conv2d with input channel number 32 and out channel number 64, kernel size 3, padding 1, and stride 2.\n",
    "    3. Remove nn.Dropout2d from both __init__ and forward.\n",
    "    3. Remove the max_pool2d after conv1.\n",
    "    4. Change the input and output dimensions for Linears (and view) from 320 to a number matching the flattened output size of F.max_pool2d, and from 50 to 64.\n",
    "Run this new program and screen shot its execution."
   ]
  },
  {
   "cell_type": "code",
   "execution_count": 1,
   "metadata": {
    "pycharm": {
     "is_executing": false,
     "name": "#%%\n"
    },
    "scrolled": true
   },
   "outputs": [],
   "source": [
    "import torch\n",
    "import torchvision\n",
    "import torch.nn as nn\n",
    "import torch.nn.functional as F\n",
    "import torch.optim as optim"
   ]
  },
  {
   "cell_type": "code",
   "execution_count": 2,
   "metadata": {
    "pycharm": {
     "is_executing": false,
     "name": "#%%\n"
    },
    "scrolled": true
   },
   "outputs": [],
   "source": [
    "batch_size_train = 256\n",
    "n_epochs = 10"
   ]
  },
  {
   "cell_type": "code",
   "execution_count": 3,
   "metadata": {
    "pycharm": {
     "is_executing": false,
     "name": "#%%\n"
    },
    "scrolled": true
   },
   "outputs": [],
   "source": [
    "train_loader = torch.utils.data.DataLoader(\n",
    "    torchvision.datasets.MNIST('./data/', train=True, download=True,\n",
    "                               transform=torchvision.transforms.ToTensor()),\n",
    "    batch_size=batch_size_train, shuffle=True)\n",
    "\n",
    "test_loader = torch.utils.data.DataLoader(\n",
    "    torchvision.datasets.MNIST('./data/', train=False, download=True,\n",
    "                               transform=torchvision.transforms.ToTensor()))"
   ]
  },
  {
   "cell_type": "code",
   "execution_count": 4,
   "metadata": {
    "pycharm": {
     "is_executing": false,
     "name": "#%%\n"
    },
    "scrolled": true
   },
   "outputs": [],
   "source": [
    "test_size = len(test_loader.dataset)"
   ]
  },
  {
   "cell_type": "code",
   "execution_count": 8,
   "metadata": {
    "pycharm": {
     "is_executing": false,
     "name": "#%%\n"
    },
    "scrolled": true
   },
   "outputs": [],
   "source": [
    "class Net(nn.Module):\n",
    "    def __init__(self):\n",
    "        super(Net, self).__init__()\n",
    "        self.conv1 = nn.Conv2d(1, 32, 3, padding=1)  # Modified conv1\n",
    "        self.conv2 = nn.Conv2d(32, 64, 3, padding=1, stride=2)  # Modified conv2\n",
    "        # self.conv2_drop = nn.Dropout2d()  # Removed the dropout layer\n",
    "        self.fc1 = nn.Linear(3136, 64)\n",
    "        self.fc2 = nn.Linear(64, 10)\n",
    "\n",
    "    def forward(self, x):\n",
    "        x = F.relu(self.conv1(x))  # Removed the max_pool2d after conv1.\n",
    "        x = F.relu(F.max_pool2d(self.conv2(x), 2))\n",
    "        x = x.view(-1, 3136)\n",
    "        x = F.relu(self.fc1(x))\n",
    "        # x = F.dropout(x, training=self.training)  # Removed the dropout layer\n",
    "        x = self.fc2(x)\n",
    "        return x"
   ]
  },
  {
   "cell_type": "code",
   "execution_count": 9,
   "metadata": {
    "pycharm": {
     "is_executing": false,
     "name": "#%%\n"
    },
    "scrolled": true
   },
   "outputs": [],
   "source": [
    "model3 = Net()\n",
    "optimizer = optim.SGD(model3.parameters(), 1e-2)\n",
    "loss_fn = nn.CrossEntropyLoss()"
   ]
  },
  {
   "cell_type": "code",
   "execution_count": 10,
   "metadata": {
    "pycharm": {
     "is_executing": false,
     "name": "#%%\n"
    },
    "scrolled": true
   },
   "outputs": [
    {
     "name": "stdout",
     "output_type": "stream",
     "text": [
      "train 0 0 2.302032709121704\n",
      "train 0 100 2.2749319076538086\n",
      "train 0 200 2.1821787357330322\n",
      "test 0 5284 among 10000 correctly classified\n",
      "train 1 0 2.119394302368164\n",
      "train 1 100 1.377989411354065\n",
      "train 1 200 0.631195604801178\n",
      "test 1 8450 among 10000 correctly classified\n",
      "train 2 0 0.48948347568511963\n",
      "train 2 100 0.46687960624694824\n",
      "train 2 200 0.36679014563560486\n",
      "test 2 8822 among 10000 correctly classified\n",
      "train 3 0 0.36338454484939575\n",
      "train 3 100 0.4767206609249115\n",
      "train 3 200 0.3153747618198395\n",
      "test 3 8828 among 10000 correctly classified\n",
      "train 4 0 0.4497474133968353\n",
      "train 4 100 0.30992913246154785\n",
      "train 4 200 0.4247882068157196\n",
      "test 4 8957 among 10000 correctly classified\n",
      "train 5 0 0.44322335720062256\n",
      "train 5 100 0.32874220609664917\n",
      "train 5 200 0.2761602997779846\n",
      "test 5 8980 among 10000 correctly classified\n",
      "train 6 0 0.469051718711853\n",
      "train 6 100 0.3495524525642395\n",
      "train 6 200 0.41422462463378906\n",
      "test 6 9065 among 10000 correctly classified\n",
      "train 7 0 0.3360041379928589\n",
      "train 7 100 0.24401681125164032\n",
      "train 7 200 0.2738408148288727\n",
      "test 7 9119 among 10000 correctly classified\n",
      "train 8 0 0.29475849866867065\n",
      "train 8 100 0.41652828454971313\n",
      "train 8 200 0.2777932286262512\n",
      "test 8 9220 among 10000 correctly classified\n",
      "train 9 0 0.295698881149292\n",
      "train 9 100 0.1732637882232666\n",
      "train 9 200 0.29194289445877075\n",
      "test 9 9298 among 10000 correctly classified\n"
     ]
    }
   ],
   "source": [
    "for epoch in range(n_epochs):\n",
    "    for batch_idx, (data, target) in enumerate(train_loader):\n",
    "        p = model3(data)\n",
    "        train_loss = loss_fn(p, target)\n",
    "        if batch_idx % 100 == 0:\n",
    "            print('train', epoch, batch_idx, float(train_loss))\n",
    "        optimizer.zero_grad()\n",
    "        train_loss.backward()\n",
    "        optimizer.step()\n",
    "    m = 0\n",
    "    for batch_idx, (data, target) in enumerate(test_loader):\n",
    "        if int(torch.argmax(model3(data))) == int(target[0]):\n",
    "            m = m + 1\n",
    "    print(\"test\", epoch, m, \"among\", test_size, \"correctly classified\")"
   ]
  },
  {
   "cell_type": "markdown",
   "metadata": {
    "pycharm": {
     "name": "#%%\n"
    }
   },
   "source": [
    "### The new model has an accuracy of 92.98% which is better than 84.65% with previous model"
   ]
  }
 ],
 "metadata": {
  "kernelspec": {
   "display_name": "Python 3",
   "language": "python",
   "name": "python3"
  },
  "language_info": {
   "codemirror_mode": {
    "name": "ipython",
    "version": 3
   },
   "file_extension": ".py",
   "mimetype": "text/x-python",
   "name": "python",
   "nbconvert_exporter": "python",
   "pygments_lexer": "ipython3",
   "version": "3.6.8"
  },
  "pycharm": {
   "stem_cell": {
    "cell_type": "raw",
    "metadata": {
     "collapsed": false
    },
    "source": []
   }
  }
 },
 "nbformat": 4,
 "nbformat_minor": 1
}
