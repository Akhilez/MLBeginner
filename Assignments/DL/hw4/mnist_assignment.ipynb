{
 "cells": [
  {
   "cell_type": "markdown",
   "metadata": {},
   "source": [
    "# Deep Learning Assignment 4\n",
    "    Akhil Devarashetti\n",
    "    M13471127\n",
    "    01/29/2020\n",
    "\n",
    "### Question:\n",
    "DL2.py learns a two-layer classifier for the MNIST data as independent pixels.  Run this program to see what prediction accuracy one can get. \n",
    "\n",
    "Replace MNIST with FashionMNIST and run it.\n",
    "\n",
    "Submit your code and screen shots of both executions with comments on the results."
   ]
  },
  {
   "cell_type": "code",
   "execution_count": 1,
   "metadata": {},
   "outputs": [],
   "source": [
    "import torch\n",
    "import torchvision\n",
    "import torch.nn as nn\n",
    "import torch.optim as optim"
   ]
  },
  {
   "cell_type": "code",
   "execution_count": 2,
   "metadata": {},
   "outputs": [],
   "source": [
    "num_inputs, num_outputs, num_hiddens = 784, 10, 256\n",
    "batch_size_train = 256\n",
    "n_epochs = 10"
   ]
  },
  {
   "cell_type": "code",
   "execution_count": 3,
   "metadata": {},
   "outputs": [
    {
     "name": "stdout",
     "output_type": "stream",
     "text": [
      "Downloading http://yann.lecun.com/exdb/mnist/train-images-idx3-ubyte.gz to /data/MNIST\\raw\\train-images-idx3-ubyte.gz\n"
     ]
    },
    {
     "name": "stderr",
     "output_type": "stream",
     "text": [
      "100.1%"
     ]
    },
    {
     "name": "stdout",
     "output_type": "stream",
     "text": [
      "Extracting /data/MNIST\\raw\\train-images-idx3-ubyte.gz to /data/MNIST\\raw\n"
     ]
    },
    {
     "name": "stderr",
     "output_type": "stream",
     "text": [
      "113.5%"
     ]
    },
    {
     "name": "stdout",
     "output_type": "stream",
     "text": [
      "Downloading http://yann.lecun.com/exdb/mnist/train-labels-idx1-ubyte.gz to /data/MNIST\\raw\\train-labels-idx1-ubyte.gz\n",
      "Extracting /data/MNIST\\raw\\train-labels-idx1-ubyte.gz to /data/MNIST\\raw\n",
      "Downloading http://yann.lecun.com/exdb/mnist/t10k-images-idx3-ubyte.gz to /data/MNIST\\raw\\t10k-images-idx3-ubyte.gz\n"
     ]
    },
    {
     "name": "stderr",
     "output_type": "stream",
     "text": [
      "180.4%"
     ]
    },
    {
     "name": "stdout",
     "output_type": "stream",
     "text": [
      "Extracting /data/MNIST\\raw\\t10k-images-idx3-ubyte.gz to /data/MNIST\\raw\n",
      "Downloading http://yann.lecun.com/exdb/mnist/t10k-labels-idx1-ubyte.gz to /data/MNIST\\raw\\t10k-labels-idx1-ubyte.gz\n",
      "Extracting /data/MNIST\\raw\\t10k-labels-idx1-ubyte.gz to /data/MNIST\\raw\n",
      "Processing...\n",
      "Done!\n"
     ]
    }
   ],
   "source": [
    "train_loader = torch.utils.data.DataLoader(\n",
    "    torchvision.datasets.MNIST('./data/', train=True, download=True,\n",
    "                               transform=torchvision.transforms.ToTensor()),\n",
    "    batch_size=batch_size_train, shuffle=True)"
   ]
  },
  {
   "cell_type": "code",
   "execution_count": 4,
   "metadata": {},
   "outputs": [],
   "source": [
    "test_loader = torch.utils.data.DataLoader(\n",
    "    torchvision.datasets.MNIST('./data/', train=False, download=True,\n",
    "                               transform=torchvision.transforms.ToTensor()))\n",
    "test_size = 10000  # may be derived from test_loader"
   ]
  },
  {
   "cell_type": "code",
   "execution_count": 6,
   "metadata": {},
   "outputs": [],
   "source": [
    "model2 = nn.Sequential(\n",
    "    nn.Linear(num_inputs, num_hiddens),\n",
    "    nn.ReLU(),\n",
    "    nn.Linear(num_hiddens, num_outputs))"
   ]
  },
  {
   "cell_type": "code",
   "execution_count": 8,
   "metadata": {},
   "outputs": [
    {
     "name": "stdout",
     "output_type": "stream",
     "text": [
      "train 0 0 0.3621331751346588\n",
      "train 0 200 0.3445318937301636\n",
      "test 0 9003 among 10000 correctly classified\n",
      "train 1 0 0.4259152114391327\n",
      "train 1 200 0.27590760588645935\n",
      "test 1 9037 among 10000 correctly classified\n",
      "train 2 0 0.4125623404979706\n",
      "train 2 200 0.3316994905471802\n",
      "test 2 9053 among 10000 correctly classified\n",
      "train 3 0 0.39372459053993225\n",
      "train 3 200 0.37305599451065063\n",
      "test 3 9065 among 10000 correctly classified\n",
      "train 4 0 0.3450757563114166\n",
      "train 4 200 0.37961480021476746\n",
      "test 4 9077 among 10000 correctly classified\n",
      "train 5 0 0.2535842955112457\n",
      "train 5 200 0.34833428263664246\n",
      "test 5 9107 among 10000 correctly classified\n",
      "train 6 0 0.36497414112091064\n",
      "train 6 200 0.3580514192581177\n",
      "test 6 9113 among 10000 correctly classified\n",
      "train 7 0 0.35921475291252136\n",
      "train 7 200 0.34812167286872864\n",
      "test 7 9130 among 10000 correctly classified\n",
      "train 8 0 0.24983707070350647\n",
      "train 8 200 0.2814772129058838\n",
      "test 8 9142 among 10000 correctly classified\n",
      "train 9 0 0.31815388798713684\n",
      "train 9 200 0.3530086874961853\n",
      "test 9 9158 among 10000 correctly classified\n"
     ]
    }
   ],
   "source": [
    "optimizer = optim.SGD(model2.parameters(), 1e-2)\n",
    "loss_fn = nn.CrossEntropyLoss()\n",
    "for epoch in range(n_epochs):\n",
    "    for batch_idx, (data, target) in enumerate(train_loader):\n",
    "        data = data.reshape(-1, num_inputs)\n",
    "        p = model2(data)\n",
    "        train_loss = loss_fn(p, target)\n",
    "        if batch_idx % 200 == 0:\n",
    "            print('train', epoch, batch_idx, float(train_loss))\n",
    "        optimizer.zero_grad()\n",
    "        train_loss.backward()\n",
    "        optimizer.step()\n",
    "    m = 0\n",
    "    for batch_idx, (data, target) in enumerate(test_loader):\n",
    "        data = data.reshape(-1, num_inputs)\n",
    "        if int(torch.argmax(model2(data))) == int(target[0]):\n",
    "            m = m + 1\n",
    "    print(\"test\", epoch, m, \"among\", test_size, \"correctly classified\")"
   ]
  },
  {
   "cell_type": "markdown",
   "metadata": {},
   "source": [
    "## The accuracy of the MNIST dataset on the same model is 91.58%\n",
    "    Akhil Devarashetti\n",
    "    M13471127\n",
    "    01/29/2020"
   ]
  }
 ],
 "metadata": {
  "kernelspec": {
   "display_name": "Python 3",
   "language": "python",
   "name": "python3"
  },
  "language_info": {
   "codemirror_mode": {
    "name": "ipython",
    "version": 3
   },
   "file_extension": ".py",
   "mimetype": "text/x-python",
   "name": "python",
   "nbconvert_exporter": "python",
   "pygments_lexer": "ipython3",
   "version": "3.6.8"
  }
 },
 "nbformat": 4,
 "nbformat_minor": 4
}
