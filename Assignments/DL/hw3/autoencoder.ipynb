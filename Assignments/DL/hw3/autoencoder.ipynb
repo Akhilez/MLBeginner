{
 "cells": [
  {
   "cell_type": "markdown",
   "metadata": {},
   "source": [
    "# Deep Learning Assignment 3\n",
    "\n",
    "    Author: Akhil Devarashetti\n",
    "    Date:   01/24/2020"
   ]
  },
  {
   "cell_type": "code",
   "execution_count": 2,
   "metadata": {},
   "outputs": [],
   "source": [
    "import torch\n",
    "import torch.nn as nn\n",
    "import pandas"
   ]
  },
  {
   "cell_type": "code",
   "execution_count": 3,
   "metadata": {},
   "outputs": [],
   "source": [
    "encoder_layer = torch.nn.Linear(10, 2, bias=False)\n",
    "decoder_layer = torch.nn.Linear(2, 10, bias=False)\n",
    "model1 = torch.nn.Sequential(encoder_layer, decoder_layer)\n",
    "optimizer = torch.optim.SGD(model1.parameters(), 1e-2)\n",
    "\n",
    "def training_loop(n_epochs, optimizer, model, loss_fun, input_, output):\n",
    "    for epoch in range(1, n_epochs+ 1):\n",
    "        p = model(input_)\n",
    "        loss = loss_fun(p, output)\n",
    "        optimizer.zero_grad()\n",
    "        loss.backward()\n",
    "        optimizer.step()\n",
    "        if epoch == 1 or epoch % 1000 == 0:\n",
    "            print('Epoch {}, Loss {}'.format(epoch, float(loss)))"
   ]
  },
  {
   "cell_type": "code",
   "execution_count": 4,
   "metadata": {},
   "outputs": [],
   "source": [
    "data1 = pandas.read_csv(\"bdata1.csv\")\n",
    "data2 = data1.to_numpy()\n",
    "data3 = torch.tensor(data2, dtype=torch.float32)"
   ]
  },
  {
   "cell_type": "code",
   "execution_count": 5,
   "metadata": {},
   "outputs": [
    {
     "name": "stdout",
     "output_type": "stream",
     "text": [
      "Epoch 1, Loss 0.7972662448883057\n",
      "Epoch 1000, Loss 0.2738717198371887\n",
      "Epoch 2000, Loss 0.11064771562814713\n",
      "Epoch 3000, Loss 0.09526711702346802\n",
      "Epoch 4000, Loss 0.09361191838979721\n",
      "Epoch 5000, Loss 0.09318778663873672\n",
      "\n",
      "[Parameter containing:\n",
      "tensor([[ 0.2744,  0.2695,  0.3444,  0.3146,  0.2980, -0.0669, -0.0376,  0.1027,\n",
      "         -0.0014, -0.0547],\n",
      "        [-0.0218, -0.0696, -0.3047,  0.0373,  0.0060,  0.3087,  0.1727,  0.2873,\n",
      "          0.2897,  0.3150]], requires_grad=True), Parameter containing:\n",
      "tensor([[ 0.6358,  0.1205],\n",
      "        [ 0.5911,  0.0101],\n",
      "        [ 0.6422, -0.1124],\n",
      "        [ 0.6425, -0.1118],\n",
      "        [ 0.7979,  0.2506],\n",
      "        [ 0.2458,  0.7701],\n",
      "        [ 0.0224,  0.7831],\n",
      "        [ 0.2468,  0.7700],\n",
      "        [ 0.2095,  0.6168],\n",
      "        [ 0.0312,  0.6375]], requires_grad=True)]\n"
     ]
    }
   ],
   "source": [
    "training_loop(\n",
    "    n_epochs= 5000,\n",
    "    optimizer = optimizer,\n",
    "    model = model1,\n",
    "    loss_fun= nn.MSELoss(),\n",
    "    input_ = data3,output = data3)\n",
    "print()\n",
    "print(list(model1.parameters()))"
   ]
  },
  {
   "cell_type": "code",
   "execution_count": 9,
   "metadata": {},
   "outputs": [
    {
     "name": "stdout",
     "output_type": "stream",
     "text": [
      "   0  1  2  3  4  5  6  7  8  9\n",
      "0  0  1  1  1  1  1  0  1  0  0\n",
      "1  1  0  1  1  1  0  0  0  0  0\n",
      "2  1  1  1  1  1  0  0  0  0  0\n",
      "3  1  1  0  0  1  1  0  1  0  0\n",
      "4  1  1  1  1  1  0  0  0  1  0\n",
      "5  1  0  0  0  1  1  1  1  1  1\n",
      "6  0  0  0  0  0  1  1  1  1  1\n",
      "7  0  0  0  0  0  1  1  1  1  0\n",
      "8  0  0  0  0  0  1  1  1  0  1\n",
      "9  0  0  0  0  1  0  1  0  1  1\n"
     ]
    }
   ],
   "source": [
    "print(data1)"
   ]
  },
  {
   "cell_type": "markdown",
   "metadata": {},
   "source": [
    "#### We can see two kinds of rows.\n",
    " - Type 1: First 5 rows mostly have 1's on the first 5 columns and 0's on the last 5 columns.\n",
    " - Type 2: Last 5 rows that mostly have 0's on the first 5 columns and 1's on the last 5 columns."
   ]
  },
  {
   "cell_type": "code",
   "execution_count": 6,
   "metadata": {},
   "outputs": [
    {
     "data": {
      "text/plain": [
       "tensor([[ 1.2624,  0.2651],\n",
       "        [ 1.2314, -0.2832],\n",
       "        [ 1.5010, -0.3528],\n",
       "        [ 0.8778,  0.5106],\n",
       "        [ 1.4995, -0.0631],\n",
       "        [ 0.5144,  1.3577],\n",
       "        [-0.0580,  1.3735],\n",
       "        [-0.0032,  1.0585],\n",
       "        [-0.0565,  1.0838],\n",
       "        [ 0.2042,  0.7835]], grad_fn=<MmBackward>)"
      ]
     },
     "execution_count": 6,
     "metadata": {},
     "output_type": "execute_result"
    }
   ],
   "source": [
    "model2 = torch.nn.Sequential(encoder_layer)\n",
    "coded_values = model2(data3)\n",
    "coded_values"
   ]
  },
  {
   "cell_type": "markdown",
   "metadata": {},
   "source": [
    "## Both neurons in the encoder layer can distinguish the two types of rows with accuracy 90%.\n",
    " - Neuron 1: Type 1 if output > 0.5, Type 2 otherwise\n",
    " - Neuron 2: Type 1 if output <= 0.5, Type 2 otherwise"
   ]
  },
  {
   "cell_type": "code",
   "execution_count": 18,
   "metadata": {},
   "outputs": [
    {
     "name": "stdout",
     "output_type": "stream",
     "text": [
      "Neuron 1:\n",
      "Row 0 - Type 1\n",
      "Row 1 - Type 1\n",
      "Row 2 - Type 1\n",
      "Row 3 - Type 1\n",
      "Row 4 - Type 1\n",
      "Row 5 - Type 1\n",
      "Row 6 - Type 2\n",
      "Row 7 - Type 2\n",
      "Row 8 - Type 2\n",
      "Row 9 - Type 2\n",
      "\n",
      "Neuron 2:\n",
      "Row 0 - Type 1\n",
      "Row 1 - Type 1\n",
      "Row 2 - Type 1\n",
      "Row 3 - Type 2\n",
      "Row 4 - Type 1\n",
      "Row 5 - Type 2\n",
      "Row 6 - Type 2\n",
      "Row 7 - Type 2\n",
      "Row 8 - Type 2\n",
      "Row 9 - Type 2\n"
     ]
    }
   ],
   "source": [
    "print(\"Neuron 1:\")\n",
    "for i in range(len(coded_values)):\n",
    "    print(f\"Row {i} - \" + (\"Type 1\" if coded_values[i][0] > 0.5 else \"Type 2\"))\n",
    "    \n",
    "print(\"\\nNeuron 2:\")\n",
    "for i in range(len(coded_values)):\n",
    "    print(f\"Row {i} - \" + (\"Type 2\" if coded_values[i][1] > 0.5 else \"Type 1\"))"
   ]
  },
  {
   "cell_type": "code",
   "execution_count": null,
   "metadata": {},
   "outputs": [],
   "source": []
  }
 ],
 "metadata": {
  "kernelspec": {
   "display_name": "Python 3",
   "language": "python",
   "name": "python3"
  },
  "language_info": {
   "codemirror_mode": {
    "name": "ipython",
    "version": 3
   },
   "file_extension": ".py",
   "mimetype": "text/x-python",
   "name": "python",
   "nbconvert_exporter": "python",
   "pygments_lexer": "ipython3",
   "version": "3.6.9"
  }
 },
 "nbformat": 4,
 "nbformat_minor": 4
}
