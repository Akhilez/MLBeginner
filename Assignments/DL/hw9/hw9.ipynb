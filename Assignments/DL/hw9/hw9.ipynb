{
 "cells": [
  {
   "cell_type": "markdown",
   "metadata": {
    "collapsed": true,
    "pycharm": {
     "name": "#%% md\n"
    }
   },
   "source": [
    "# Deep Learning CS6073 Assignment 9\n",
    "    Akhil Devarashetti\n",
    "    04/07/2020\n",
    "\n",
    "### Question\n",
    "    Run DL2.py (Module 1/29/2020) with MNIST and then replace the optimizer SGD with three of the following six\n",
    "    and run and report the accuracy reached in the same number of epochs.\n",
    "    (percentage of the 10000 test samples that are correctly classified)\n",
    "    Also show the replacement code including hyperparameter values to the optimizers.\n",
    "    \n",
    "      - SGD with momentum\n",
    "      - SGD with momemtum and nesterov is true\n",
    "      - Adagrad\n",
    "      - Adadelta\n",
    "      - Adam\n",
    "      - RMSprop"
   ]
  },
  {
   "cell_type": "code",
   "execution_count": 20,
   "metadata": {
    "pycharm": {
     "is_executing": false,
     "name": "#%%\n"
    }
   },
   "outputs": [],
   "source": [
    "import torch\n",
    "import torchvision\n",
    "import torch.nn as nn\n",
    "import torch.optim as optim\n",
    "import matplotlib.pyplot as plt"
   ]
  },
  {
   "cell_type": "code",
   "execution_count": 11,
   "metadata": {
    "pycharm": {
     "is_executing": false,
     "name": "#%%\n"
    }
   },
   "outputs": [],
   "source": [
    "num_inputs, num_outputs, num_hiddens = 784, 10, 256\n",
    "batch_size_train = 256\n",
    "n_epochs = 10"
   ]
  },
  {
   "cell_type": "code",
   "execution_count": 3,
   "metadata": {
    "pycharm": {
     "is_executing": false,
     "name": "#%%\n"
    }
   },
   "outputs": [],
   "source": [
    "train_loader = torch.utils.data.DataLoader(\n",
    "    torchvision.datasets.MNIST(\n",
    "        './data/',\n",
    "        train=True,\n",
    "        download=True,\n",
    "        transform=torchvision.transforms.ToTensor()\n",
    "    ),\n",
    "    batch_size=batch_size_train,\n",
    "    shuffle=True\n",
    ")\n",
    "\n",
    "test_loader = torch.utils.data.DataLoader(\n",
    "    torchvision.datasets.MNIST(\n",
    "        './data/', \n",
    "        train=False, \n",
    "        download=True,\n",
    "        transform=torchvision.transforms.ToTensor()\n",
    "    )\n",
    ")\n",
    "\n",
    "test_size = len(test_loader.dataset)"
   ]
  },
  {
   "cell_type": "code",
   "execution_count": 4,
   "metadata": {
    "pycharm": {
     "is_executing": false,
     "name": "#%%\n"
    }
   },
   "outputs": [],
   "source": [
    "model2 = nn.Sequential(\n",
    "    nn.Linear(num_inputs, num_hiddens),\n",
    "    nn.ReLU(),\n",
    "    nn.Linear(num_hiddens, num_outputs))\n",
    "\n",
    "loss_fn = nn.CrossEntropyLoss()"
   ]
  },
  {
   "cell_type": "code",
   "execution_count": 5,
   "metadata": {
    "pycharm": {
     "is_executing": false,
     "name": "#%%\n"
    }
   },
   "outputs": [],
   "source": [
    "def train(optimizer):\n",
    "    for epoch in range(n_epochs):\n",
    "        for batch_idx, (data, target) in enumerate(train_loader):\n",
    "            data = data.reshape(-1, num_inputs)\n",
    "            p = model2(data)\n",
    "            train_loss = loss_fn(p, target)\n",
    "            if batch_idx % 100 == 0:\n",
    "                print('train', epoch, batch_idx, float(train_loss))\n",
    "            optimizer.zero_grad()\n",
    "            train_loss.backward()\n",
    "            optimizer.step()\n",
    "        m = 0\n",
    "        for batch_idx, (data, target) in enumerate(test_loader):\n",
    "            data = data.reshape(-1, num_inputs)\n",
    "            if int(torch.argmax(model2(data))) == int(target[0]):\n",
    "                m = m + 1\n",
    "        print(\"test\", epoch, m, \"among\", test_size, \"correctly classified\")"
   ]
  },
  {
   "cell_type": "code",
   "execution_count": 6,
   "metadata": {
    "pycharm": {
     "is_executing": false,
     "name": "#%%\n"
    }
   },
   "outputs": [],
   "source": [
    "def reset_params():\n",
    "    for layer in model2.children():\n",
    "        if hasattr(layer, 'reset_parameters'):\n",
    "            print(f'Cleared params for layer: {layer}')\n",
    "            layer.reset_parameters()"
   ]
  },
  {
   "cell_type": "markdown",
   "metadata": {
    "pycharm": {
     "name": "#%% md\n"
    }
   },
   "source": [
    "### Stochastic Gradient Descent optimizer"
   ]
  },
  {
   "cell_type": "code",
   "execution_count": 12,
   "metadata": {
    "pycharm": {
     "is_executing": true,
     "name": "#%%\n"
    }
   },
   "outputs": [
    {
     "name": "stdout",
     "output_type": "stream",
     "text": [
      "Cleared params for layer: Linear(in_features=784, out_features=256, bias=True)\n",
      "Cleared params for layer: Linear(in_features=256, out_features=10, bias=True)\n",
      "train 0 0 2.3120274543762207\n",
      "train 0 100 0.6001712679862976\n",
      "train 0 200 0.43185892701148987\n",
      "test 0 8981 among 10000 correctly classified\n",
      "train 1 0 0.33696043491363525\n",
      "train 1 100 0.3009839355945587\n",
      "train 1 200 0.3311253488063812\n",
      "test 1 9166 among 10000 correctly classified\n",
      "train 2 0 0.3116787075996399\n",
      "train 2 100 0.2936050295829773\n",
      "train 2 200 0.3092414140701294\n",
      "test 2 9232 among 10000 correctly classified\n",
      "train 3 0 0.2800420820713043\n",
      "train 3 100 0.23296579718589783\n",
      "train 3 200 0.23060350120067596\n",
      "test 3 9302 among 10000 correctly classified\n"
     ]
    }
   ],
   "source": [
    "reset_params()\n",
    "sgd = optim.SGD(model2.parameters(), 1e-1)\n",
    "train(sgd)"
   ]
  },
  {
   "cell_type": "markdown",
   "metadata": {},
   "source": [
    "### Stochastic Gradient Descent with Momentum"
   ]
  },
  {
   "cell_type": "code",
   "execution_count": 14,
   "metadata": {},
   "outputs": [
    {
     "name": "stdout",
     "output_type": "stream",
     "text": [
      "Cleared params for layer: Linear(in_features=784, out_features=256, bias=True)\n",
      "Cleared params for layer: Linear(in_features=256, out_features=10, bias=True)\n",
      "train 0 0 2.292534351348877\n",
      "train 0 100 1.7922694683074951\n",
      "train 0 200 1.200226068496704\n",
      "test 0 8170 among 10000 correctly classified\n",
      "train 1 0 1.0726455450057983\n",
      "train 1 100 0.7982168793678284\n",
      "train 1 200 0.6288928389549255\n",
      "test 1 8672 among 10000 correctly classified\n",
      "train 2 0 0.5778769254684448\n",
      "train 2 100 0.5048604011535645\n",
      "train 2 200 0.44884318113327026\n",
      "test 2 8864 among 10000 correctly classified\n",
      "train 3 0 0.47037777304649353\n",
      "train 3 100 0.42961016297340393\n",
      "train 3 200 0.40676015615463257\n",
      "test 3 8947 among 10000 correctly classified\n"
     ]
    }
   ],
   "source": [
    "reset_params()\n",
    "sgd = optim.SGD(model2.parameters(), 1e-2, momentum=0.5)\n",
    "train(sgd)"
   ]
  },
  {
   "cell_type": "markdown",
   "metadata": {},
   "source": [
    "### Stochastic Gradient Descent with Momentum and Nesterov"
   ]
  },
  {
   "cell_type": "code",
   "execution_count": 15,
   "metadata": {
    "pycharm": {
     "is_executing": true,
     "name": "#%%\n"
    }
   },
   "outputs": [
    {
     "name": "stdout",
     "output_type": "stream",
     "text": [
      "Cleared params for layer: Linear(in_features=784, out_features=256, bias=True)\n",
      "Cleared params for layer: Linear(in_features=256, out_features=10, bias=True)\n",
      "train 0 0 2.3032214641571045\n",
      "train 0 100 1.7841253280639648\n",
      "train 0 200 1.1124649047851562\n",
      "test 0 8201 among 10000 correctly classified\n",
      "train 1 0 0.9964576363563538\n",
      "train 1 100 0.7760831713676453\n",
      "train 1 200 0.5570434927940369\n",
      "test 1 8693 among 10000 correctly classified\n",
      "train 2 0 0.6317296624183655\n",
      "train 2 100 0.5360236763954163\n",
      "train 2 200 0.5397245287895203\n",
      "test 2 8854 among 10000 correctly classified\n",
      "train 3 0 0.5353261232376099\n",
      "train 3 100 0.42035019397735596\n",
      "train 3 200 0.45538684725761414\n",
      "test 3 8955 among 10000 correctly classified\n"
     ]
    }
   ],
   "source": [
    "reset_params()\n",
    "sgd = optim.SGD(model2.parameters(), 1e-2, momentum=0.5, nesterov=True)\n",
    "train(sgd)"
   ]
  },
  {
   "cell_type": "markdown",
   "metadata": {},
   "source": [
    "### Adagrad"
   ]
  },
  {
   "cell_type": "code",
   "execution_count": 16,
   "metadata": {
    "pycharm": {
     "is_executing": true,
     "name": "#%%\n"
    }
   },
   "outputs": [
    {
     "name": "stdout",
     "output_type": "stream",
     "text": [
      "Cleared params for layer: Linear(in_features=784, out_features=256, bias=True)\n",
      "Cleared params for layer: Linear(in_features=256, out_features=10, bias=True)\n",
      "train 0 0 2.315495252609253\n",
      "train 0 100 0.24299538135528564\n",
      "train 0 200 0.2697906792163849\n",
      "test 0 9394 among 10000 correctly classified\n",
      "train 1 0 0.21300537884235382\n",
      "train 1 100 0.17649266123771667\n",
      "train 1 200 0.21668608486652374\n",
      "test 1 9496 among 10000 correctly classified\n",
      "train 2 0 0.17566104233264923\n",
      "train 2 100 0.14283914864063263\n",
      "train 2 200 0.1528632789850235\n",
      "test 2 9582 among 10000 correctly classified\n",
      "train 3 0 0.1507333517074585\n",
      "train 3 100 0.15950313210487366\n",
      "train 3 200 0.14591793715953827\n",
      "test 3 9614 among 10000 correctly classified\n"
     ]
    }
   ],
   "source": [
    "reset_params()\n",
    "adagrad = optim.Adagrad(model2.parameters())\n",
    "train(adagrad)"
   ]
  },
  {
   "cell_type": "markdown",
   "metadata": {
    "pycharm": {
     "name": "#%% md\n"
    }
   },
   "source": [
    "### Adadelta"
   ]
  },
  {
   "cell_type": "code",
   "execution_count": 17,
   "metadata": {
    "pycharm": {
     "is_executing": true,
     "name": "#%%\n"
    }
   },
   "outputs": [
    {
     "name": "stdout",
     "output_type": "stream",
     "text": [
      "Cleared params for layer: Linear(in_features=784, out_features=256, bias=True)\n",
      "Cleared params for layer: Linear(in_features=256, out_features=10, bias=True)\n",
      "train 0 0 2.3030965328216553\n",
      "train 0 100 0.26532942056655884\n",
      "train 0 200 0.2062569260597229\n",
      "test 0 9212 among 10000 correctly classified\n",
      "train 1 0 0.2776394784450531\n",
      "train 1 100 0.13069462776184082\n",
      "train 1 200 0.20899787545204163\n",
      "test 1 9454 among 10000 correctly classified\n",
      "train 2 0 0.1885516345500946\n",
      "train 2 100 0.12477181106805801\n",
      "train 2 200 0.08931533992290497\n",
      "test 2 9649 among 10000 correctly classified\n",
      "train 3 0 0.11144594103097916\n",
      "train 3 100 0.0837310329079628\n",
      "train 3 200 0.1087600588798523\n",
      "test 3 9726 among 10000 correctly classified\n"
     ]
    }
   ],
   "source": [
    "reset_params()\n",
    "adadelta = optim.Adadelta(model2.parameters())\n",
    "train(adadelta)"
   ]
  },
  {
   "cell_type": "markdown",
   "metadata": {
    "pycharm": {
     "name": "#%% md\n"
    }
   },
   "source": [
    "### Adam"
   ]
  },
  {
   "cell_type": "code",
   "execution_count": 18,
   "metadata": {
    "pycharm": {
     "is_executing": true,
     "name": "#%%\n"
    }
   },
   "outputs": [
    {
     "name": "stdout",
     "output_type": "stream",
     "text": [
      "Cleared params for layer: Linear(in_features=784, out_features=256, bias=True)\n",
      "Cleared params for layer: Linear(in_features=256, out_features=10, bias=True)\n",
      "train 0 0 2.307326078414917\n",
      "train 0 100 0.3456892669200897\n",
      "train 0 200 0.3437410593032837\n",
      "test 0 9331 among 10000 correctly classified\n",
      "train 1 0 0.20258675515651703\n",
      "train 1 100 0.17102812230587006\n",
      "train 1 200 0.13237273693084717\n",
      "test 1 9567 among 10000 correctly classified\n",
      "train 2 0 0.14072977006435394\n",
      "train 2 100 0.12903571128845215\n",
      "train 2 200 0.14757278561592102\n",
      "test 2 9651 among 10000 correctly classified\n",
      "train 3 0 0.09200918674468994\n",
      "train 3 100 0.10584809631109238\n",
      "train 3 200 0.0729312002658844\n",
      "test 3 9684 among 10000 correctly classified\n"
     ]
    }
   ],
   "source": [
    "reset_params()\n",
    "adam = optim.Adam(model2.parameters())\n",
    "train(adam)"
   ]
  },
  {
   "cell_type": "markdown",
   "metadata": {
    "pycharm": {
     "name": "#%% md\n"
    }
   },
   "source": [
    "### RMSprop"
   ]
  },
  {
   "cell_type": "code",
   "execution_count": 19,
   "metadata": {
    "pycharm": {
     "is_executing": true,
     "name": "#%%\n"
    }
   },
   "outputs": [
    {
     "name": "stdout",
     "output_type": "stream",
     "text": [
      "Cleared params for layer: Linear(in_features=784, out_features=256, bias=True)\n",
      "Cleared params for layer: Linear(in_features=256, out_features=10, bias=True)\n",
      "train 0 0 2.3254218101501465\n",
      "train 0 100 0.2090155929327011\n",
      "train 0 200 0.1822703778743744\n",
      "test 0 9485 among 10000 correctly classified\n",
      "train 1 0 0.21620617806911469\n",
      "train 1 100 0.0857047513127327\n",
      "train 1 200 0.0915268212556839\n",
      "test 1 9606 among 10000 correctly classified\n",
      "train 2 0 0.10506013035774231\n",
      "train 2 100 0.1033288836479187\n",
      "train 2 200 0.22231200337409973\n",
      "test 2 9578 among 10000 correctly classified\n",
      "train 3 0 0.12277117371559143\n",
      "train 3 100 0.07260895520448685\n",
      "train 3 200 0.16300760209560394\n",
      "test 3 9563 among 10000 correctly classified\n"
     ]
    }
   ],
   "source": [
    "reset_params()\n",
    "rms_prop = optim.RMSprop(model2.parameters())\n",
    "train(rms_prop)"
   ]
  },
  {
   "cell_type": "code",
   "execution_count": 32,
   "metadata": {},
   "outputs": [],
   "source": [
    "import numpy as np"
   ]
  },
  {
   "cell_type": "code",
   "execution_count": 33,
   "metadata": {},
   "outputs": [],
   "source": [
    "errors = np.array([1, 2, 3, 4])"
   ]
  },
  {
   "cell_type": "code",
   "execution_count": 42,
   "metadata": {},
   "outputs": [
    {
     "data": {
      "image/png": "[encoded data removed]",
      "text/plain": [
       "<Figure size 432x288 with 1 Axes>"
      ]
     },
     "metadata": {
      "needs_background": "light"
     },
     "output_type": "display_data"
    }
   ],
   "source": [
    "plt.plot(errors, errors, label=\"x\")\n",
    "plt.plot(errors, errors * 2, label=\"y\")\n",
    "\n",
    "plt.xlabel(\"Epochs\")\n",
    "plt.ylabel(\"Error\")\n",
    "plt.title(\"Test Error\")\n",
    "plt.legend()\n",
    "\n",
    "plt.show()"
   ]
  },
  {
   "cell_type": "markdown",
   "metadata": {},
   "source": [
    "### The accuracy of each optimizer is shown in the plot above"
   ]
  }
 ],
 "metadata": {
  "kernelspec": {
   "display_name": "Python 3",
   "language": "python",
   "name": "python3"
  },
  "language_info": {
   "codemirror_mode": {
    "name": "ipython",
    "version": 3
   },
   "file_extension": ".py",
   "mimetype": "text/x-python",
   "name": "python",
   "nbconvert_exporter": "python",
   "pygments_lexer": "ipython3",
   "version": "3.6.8"
  },
  "pycharm": {
   "stem_cell": {
    "cell_type": "raw",
    "metadata": {
     "collapsed": false
    },
    "source": []
   }
  }
 },
 "nbformat": 4,
 "nbformat_minor": 1
}
