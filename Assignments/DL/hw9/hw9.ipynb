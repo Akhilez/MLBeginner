{
 "cells": [
  {
   "cell_type": "markdown",
   "metadata": {
    "collapsed": true,
    "pycharm": {
     "name": "#%% md\n"
    }
   },
   "source": [
    "# Deep Learning CS6073 Assignment 9\n",
    "    Akhil Devarashetti\n",
    "    04/07/2020\n",
    "\n",
    "### Question\n",
    "    Run DL2.py (Module 1/29/2020) with MNIST and then replace the optimizer SGD with three of the following six\n",
    "    and run and report the accuracy reached in the same number of epochs.\n",
    "    (percentage of the 10000 test samples that are correctly classified)\n",
    "    Also show the replacement code including hyperparameter values to the optimizers.\n",
    "    \n",
    "      - SGD with momentum\n",
    "      - SGD with momemtum and nesterov is true\n",
    "      - Adagrad\n",
    "      - Adadelta\n",
    "      - Adam\n",
    "      - RMSprop"
   ]
  },
  {
   "cell_type": "code",
   "execution_count": 1,
   "metadata": {
    "pycharm": {
     "is_executing": false,
     "name": "#%%\n"
    }
   },
   "outputs": [],
   "source": [
    "import torch\n",
    "import torchvision\n",
    "import torch.nn as nn\n",
    "import torch.optim as optim\n",
    "import matplotlib.pyplot as plt"
   ]
  },
  {
   "cell_type": "code",
   "execution_count": 2,
   "metadata": {
    "pycharm": {
     "is_executing": false,
     "name": "#%%\n"
    }
   },
   "outputs": [],
   "source": [
    "num_inputs, num_outputs, num_hiddens = 784, 10, 256\n",
    "batch_size_train = 256\n",
    "n_epochs = 10"
   ]
  },
  {
   "cell_type": "code",
   "execution_count": 3,
   "metadata": {
    "pycharm": {
     "is_executing": false,
     "name": "#%%\n"
    }
   },
   "outputs": [],
   "source": [
    "train_loader = torch.utils.data.DataLoader(\n",
    "    torchvision.datasets.MNIST(\n",
    "        './data/',\n",
    "        train=True,\n",
    "        download=True,\n",
    "        transform=torchvision.transforms.ToTensor()\n",
    "    ),\n",
    "    batch_size=batch_size_train,\n",
    "    shuffle=True\n",
    ")\n",
    "\n",
    "test_loader = torch.utils.data.DataLoader(\n",
    "    torchvision.datasets.MNIST(\n",
    "        './data/', \n",
    "        train=False, \n",
    "        download=True,\n",
    "        transform=torchvision.transforms.ToTensor()\n",
    "    )\n",
    ")\n",
    "\n",
    "test_size = len(test_loader.dataset)"
   ]
  },
  {
   "cell_type": "code",
   "execution_count": 4,
   "metadata": {
    "pycharm": {
     "is_executing": false,
     "name": "#%%\n"
    }
   },
   "outputs": [],
   "source": [
    "model2 = nn.Sequential(\n",
    "    nn.Linear(num_inputs, num_hiddens),\n",
    "    nn.ReLU(),\n",
    "    nn.Linear(num_hiddens, num_outputs))\n",
    "\n",
    "loss_fn = nn.CrossEntropyLoss()"
   ]
  },
  {
   "cell_type": "code",
   "execution_count": 5,
   "metadata": {
    "pycharm": {
     "is_executing": false,
     "name": "#%%\n"
    }
   },
   "outputs": [],
   "source": [
    "def train(optimizer):\n",
    "    test_errors = []\n",
    "    for epoch in range(n_epochs):\n",
    "        for batch_idx, (data, target) in enumerate(train_loader):\n",
    "            data = data.reshape(-1, num_inputs)\n",
    "            p = model2(data)\n",
    "            train_loss = loss_fn(p, target)\n",
    "            if batch_idx % 100 == 0:\n",
    "                print('train', epoch, batch_idx, float(train_loss))\n",
    "            optimizer.zero_grad()\n",
    "            train_loss.backward()\n",
    "            optimizer.step()\n",
    "        m = 0\n",
    "        for batch_idx, (data, target) in enumerate(test_loader):\n",
    "            data = data.reshape(-1, num_inputs)\n",
    "            if int(torch.argmax(model2(data))) == int(target[0]):\n",
    "                m = m + 1\n",
    "        print(\"test\", epoch, m, \"among\", test_size, \"correctly classified\")\n",
    "        test_errors.append(m/test_size)\n",
    "    return test_errors"
   ]
  },
  {
   "cell_type": "code",
   "execution_count": 6,
   "metadata": {
    "pycharm": {
     "is_executing": false,
     "name": "#%%\n"
    }
   },
   "outputs": [],
   "source": [
    "def reset_params():\n",
    "    for layer in model2.children():\n",
    "        if hasattr(layer, 'reset_parameters'):\n",
    "            print(f'Cleared params for layer: {layer}')\n",
    "            layer.reset_parameters()"
   ]
  },
  {
   "cell_type": "markdown",
   "metadata": {
    "pycharm": {
     "name": "#%% md\n"
    }
   },
   "source": [
    "### Stochastic Gradient Descent optimizer"
   ]
  },
  {
   "cell_type": "code",
   "execution_count": 7,
   "metadata": {
    "pycharm": {
     "is_executing": true,
     "name": "#%%\n"
    }
   },
   "outputs": [
    {
     "name": "stdout",
     "output_type": "stream",
     "text": [
      "Cleared params for layer: Linear(in_features=784, out_features=256, bias=True)\n",
      "Cleared params for layer: Linear(in_features=256, out_features=10, bias=True)\n",
      "train 0 0 2.2957279682159424\n",
      "train 0 100 0.6139993667602539\n",
      "train 0 200 0.3762021064758301\n",
      "test 0 8969 among 10000 correctly classified\n",
      "train 1 0 0.45420950651168823\n",
      "train 1 100 0.30527395009994507\n",
      "train 1 200 0.32435354590415955\n",
      "test 1 9132 among 10000 correctly classified\n",
      "train 2 0 0.3766746520996094\n",
      "train 2 100 0.3262130618095398\n",
      "train 2 200 0.28711000084877014\n",
      "test 2 9226 among 10000 correctly classified\n",
      "train 3 0 0.26782312989234924\n",
      "train 3 100 0.24807144701480865\n",
      "train 3 200 0.26181620359420776\n",
      "test 3 9311 among 10000 correctly classified\n",
      "train 4 0 0.24449099600315094\n",
      "train 4 100 0.1856357306241989\n",
      "train 4 200 0.1901005655527115\n",
      "test 4 9365 among 10000 correctly classified\n",
      "train 5 0 0.21271395683288574\n",
      "train 5 100 0.22722841799259186\n",
      "train 5 200 0.21694816648960114\n",
      "test 5 9398 among 10000 correctly classified\n",
      "train 6 0 0.14187480509281158\n",
      "train 6 100 0.20982874929904938\n",
      "train 6 200 0.15424178540706635\n",
      "test 6 9434 among 10000 correctly classified\n",
      "train 7 0 0.1795789897441864\n",
      "train 7 100 0.2091878056526184\n",
      "train 7 200 0.17396046221256256\n",
      "test 7 9472 among 10000 correctly classified\n",
      "train 8 0 0.20086678862571716\n",
      "train 8 100 0.3281487226486206\n",
      "train 8 200 0.18433141708374023\n",
      "test 8 9516 among 10000 correctly classified\n",
      "train 9 0 0.14679346978664398\n",
      "train 9 100 0.16028480231761932\n",
      "train 9 200 0.15240387618541718\n",
      "test 9 9522 among 10000 correctly classified\n"
     ]
    }
   ],
   "source": [
    "reset_params()\n",
    "sgd = optim.SGD(model2.parameters(), 1e-1)\n",
    "sgd_errors = train(sgd)"
   ]
  },
  {
   "cell_type": "markdown",
   "metadata": {},
   "source": [
    "### Stochastic Gradient Descent with Momentum"
   ]
  },
  {
   "cell_type": "code",
   "execution_count": 8,
   "metadata": {},
   "outputs": [
    {
     "name": "stdout",
     "output_type": "stream",
     "text": [
      "Cleared params for layer: Linear(in_features=784, out_features=256, bias=True)\n",
      "Cleared params for layer: Linear(in_features=256, out_features=10, bias=True)\n",
      "train 0 0 2.32192063331604\n",
      "train 0 100 1.8517792224884033\n",
      "train 0 200 1.1748988628387451\n",
      "test 0 8155 among 10000 correctly classified\n",
      "train 1 0 1.074642300605774\n",
      "train 1 100 0.7981865406036377\n",
      "train 1 200 0.6673791408538818\n",
      "test 1 8663 among 10000 correctly classified\n",
      "train 2 0 0.6211650967597961\n",
      "train 2 100 0.5348968505859375\n",
      "train 2 200 0.4724133312702179\n",
      "test 2 8872 among 10000 correctly classified\n",
      "train 3 0 0.44529178738594055\n",
      "train 3 100 0.47144538164138794\n",
      "train 3 200 0.38402122259140015\n",
      "test 3 8935 among 10000 correctly classified\n",
      "train 4 0 0.4317765235900879\n",
      "train 4 100 0.40861016511917114\n",
      "train 4 200 0.396884560585022\n",
      "test 4 9001 among 10000 correctly classified\n",
      "train 5 0 0.4174446165561676\n",
      "train 5 100 0.4165913164615631\n",
      "train 5 200 0.30413898825645447\n",
      "test 5 9035 among 10000 correctly classified\n",
      "train 6 0 0.41361355781555176\n",
      "train 6 100 0.32438406348228455\n",
      "train 6 200 0.3778175413608551\n",
      "test 6 9077 among 10000 correctly classified\n",
      "train 7 0 0.3546128273010254\n",
      "train 7 100 0.2897878587245941\n",
      "train 7 200 0.2757043242454529\n",
      "test 7 9112 among 10000 correctly classified\n",
      "train 8 0 0.3648143410682678\n",
      "train 8 100 0.3326154053211212\n",
      "train 8 200 0.30317607522010803\n",
      "test 8 9131 among 10000 correctly classified\n",
      "train 9 0 0.30118635296821594\n",
      "train 9 100 0.2827591001987457\n",
      "train 9 200 0.258233904838562\n",
      "test 9 9156 among 10000 correctly classified\n"
     ]
    }
   ],
   "source": [
    "reset_params()\n",
    "sgd = optim.SGD(model2.parameters(), 1e-2, momentum=0.5)\n",
    "sgd_momentum_errors = train(sgd)"
   ]
  },
  {
   "cell_type": "markdown",
   "metadata": {},
   "source": [
    "### Stochastic Gradient Descent with Momentum and Nesterov"
   ]
  },
  {
   "cell_type": "code",
   "execution_count": 9,
   "metadata": {
    "pycharm": {
     "is_executing": true,
     "name": "#%%\n"
    }
   },
   "outputs": [
    {
     "name": "stdout",
     "output_type": "stream",
     "text": [
      "Cleared params for layer: Linear(in_features=784, out_features=256, bias=True)\n",
      "Cleared params for layer: Linear(in_features=256, out_features=10, bias=True)\n",
      "train 0 0 2.3045358657836914\n",
      "train 0 100 1.7964586019515991\n",
      "train 0 200 1.174868106842041\n",
      "test 0 8115 among 10000 correctly classified\n",
      "train 1 0 1.0330135822296143\n",
      "train 1 100 0.8498351573944092\n",
      "train 1 200 0.6088714003562927\n",
      "test 1 8650 among 10000 correctly classified\n",
      "train 2 0 0.5576141476631165\n",
      "train 2 100 0.44274479150772095\n",
      "train 2 200 0.5015881657600403\n",
      "test 2 8875 among 10000 correctly classified\n",
      "train 3 0 0.483882337808609\n",
      "train 3 100 0.4634377360343933\n",
      "train 3 200 0.43780165910720825\n",
      "test 3 8952 among 10000 correctly classified\n",
      "train 4 0 0.40536320209503174\n",
      "train 4 100 0.36226364970207214\n",
      "train 4 200 0.4466438889503479\n",
      "test 4 9000 among 10000 correctly classified\n",
      "train 5 0 0.34255701303482056\n",
      "train 5 100 0.3715346157550812\n",
      "train 5 200 0.368071585893631\n",
      "test 5 9038 among 10000 correctly classified\n",
      "train 6 0 0.42610618472099304\n",
      "train 6 100 0.46294453740119934\n",
      "train 6 200 0.4058343470096588\n",
      "test 6 9079 among 10000 correctly classified\n",
      "train 7 0 0.3273870646953583\n",
      "train 7 100 0.33072134852409363\n",
      "train 7 200 0.35934317111968994\n",
      "test 7 9108 among 10000 correctly classified\n",
      "train 8 0 0.3628217279911041\n",
      "train 8 100 0.36423447728157043\n",
      "train 8 200 0.31940752267837524\n",
      "test 8 9131 among 10000 correctly classified\n",
      "train 9 0 0.2816005051136017\n",
      "train 9 100 0.28166744112968445\n",
      "train 9 200 0.3165881037712097\n",
      "test 9 9147 among 10000 correctly classified\n"
     ]
    }
   ],
   "source": [
    "reset_params()\n",
    "sgd = optim.SGD(model2.parameters(), 1e-2, momentum=0.5, nesterov=True)\n",
    "sgd_momentum_nesterov_errors = train(sgd)"
   ]
  },
  {
   "cell_type": "markdown",
   "metadata": {},
   "source": [
    "### Adagrad"
   ]
  },
  {
   "cell_type": "code",
   "execution_count": 10,
   "metadata": {
    "pycharm": {
     "is_executing": true,
     "name": "#%%\n"
    }
   },
   "outputs": [
    {
     "name": "stdout",
     "output_type": "stream",
     "text": [
      "Cleared params for layer: Linear(in_features=784, out_features=256, bias=True)\n",
      "Cleared params for layer: Linear(in_features=256, out_features=10, bias=True)\n",
      "train 0 0 2.3210372924804688\n",
      "train 0 100 0.30118176341056824\n",
      "train 0 200 0.2300821840763092\n",
      "test 0 9382 among 10000 correctly classified\n",
      "train 1 0 0.25816774368286133\n",
      "train 1 100 0.22435495257377625\n",
      "train 1 200 0.21879467368125916\n",
      "test 1 9521 among 10000 correctly classified\n",
      "train 2 0 0.1576082855463028\n",
      "train 2 100 0.13419687747955322\n",
      "train 2 200 0.19969329237937927\n",
      "test 2 9570 among 10000 correctly classified\n",
      "train 3 0 0.1990022510290146\n",
      "train 3 100 0.1545592099428177\n",
      "train 3 200 0.12443876266479492\n",
      "test 3 9628 among 10000 correctly classified\n",
      "train 4 0 0.11143022030591965\n",
      "train 4 100 0.11120962351560593\n",
      "train 4 200 0.15628604590892792\n",
      "test 4 9657 among 10000 correctly classified\n",
      "train 5 0 0.1355903595685959\n",
      "train 5 100 0.09091495722532272\n",
      "train 5 200 0.07987925410270691\n",
      "test 5 9657 among 10000 correctly classified\n",
      "train 6 0 0.14016646146774292\n",
      "train 6 100 0.1117509976029396\n",
      "train 6 200 0.07128391414880753\n",
      "test 6 9692 among 10000 correctly classified\n",
      "train 7 0 0.13763569295406342\n",
      "train 7 100 0.0827598050236702\n",
      "train 7 200 0.09328235685825348\n",
      "test 7 9685 among 10000 correctly classified\n",
      "train 8 0 0.08122695982456207\n",
      "train 8 100 0.07041957974433899\n",
      "train 8 200 0.07967068254947662\n",
      "test 8 9713 among 10000 correctly classified\n",
      "train 9 0 0.10109230130910873\n",
      "train 9 100 0.07574368268251419\n",
      "train 9 200 0.08081042021512985\n",
      "test 9 9711 among 10000 correctly classified\n"
     ]
    }
   ],
   "source": [
    "reset_params()\n",
    "adagrad = optim.Adagrad(model2.parameters())\n",
    "adagrad_errors = train(adagrad)"
   ]
  },
  {
   "cell_type": "markdown",
   "metadata": {
    "pycharm": {
     "name": "#%% md\n"
    }
   },
   "source": [
    "### Adadelta"
   ]
  },
  {
   "cell_type": "code",
   "execution_count": 11,
   "metadata": {
    "pycharm": {
     "is_executing": true,
     "name": "#%%\n"
    }
   },
   "outputs": [
    {
     "name": "stdout",
     "output_type": "stream",
     "text": [
      "Cleared params for layer: Linear(in_features=784, out_features=256, bias=True)\n",
      "Cleared params for layer: Linear(in_features=256, out_features=10, bias=True)\n",
      "train 0 0 2.3027942180633545\n",
      "train 0 100 0.3118557333946228\n",
      "train 0 200 0.2826221287250519\n",
      "test 0 9340 among 10000 correctly classified\n",
      "train 1 0 0.2633456289768219\n",
      "train 1 100 0.18825505673885345\n",
      "train 1 200 0.14695598185062408\n",
      "test 1 9542 among 10000 correctly classified\n",
      "train 2 0 0.09168902039527893\n",
      "train 2 100 0.1283082664012909\n",
      "train 2 200 0.1264849603176117\n",
      "test 2 9659 among 10000 correctly classified\n",
      "train 3 0 0.06950263679027557\n",
      "train 3 100 0.07855653762817383\n",
      "train 3 200 0.06174475699663162\n",
      "test 3 9723 among 10000 correctly classified\n",
      "train 4 0 0.07966068387031555\n",
      "train 4 100 0.061653126031160355\n",
      "train 4 200 0.0842965617775917\n",
      "test 4 9747 among 10000 correctly classified\n",
      "train 5 0 0.10134412348270416\n",
      "train 5 100 0.02298879064619541\n",
      "train 5 200 0.0691944882273674\n",
      "test 5 9766 among 10000 correctly classified\n",
      "train 6 0 0.03988867625594139\n",
      "train 6 100 0.04244096577167511\n",
      "train 6 200 0.05399336293339729\n",
      "test 6 9764 among 10000 correctly classified\n",
      "train 7 0 0.04975985363125801\n",
      "train 7 100 0.09786584973335266\n",
      "train 7 200 0.07348190993070602\n",
      "test 7 9762 among 10000 correctly classified\n",
      "train 8 0 0.03831722214818001\n",
      "train 8 100 0.028134264051914215\n",
      "train 8 200 0.03493448346853256\n",
      "test 8 9807 among 10000 correctly classified\n",
      "train 9 0 0.04191983863711357\n",
      "train 9 100 0.02609923481941223\n",
      "train 9 200 0.0297562163323164\n",
      "test 9 9775 among 10000 correctly classified\n"
     ]
    }
   ],
   "source": [
    "reset_params()\n",
    "adadelta = optim.Adadelta(model2.parameters())\n",
    "adadelta_errors = train(adadelta)"
   ]
  },
  {
   "cell_type": "markdown",
   "metadata": {
    "pycharm": {
     "name": "#%% md\n"
    }
   },
   "source": [
    "### Adam"
   ]
  },
  {
   "cell_type": "code",
   "execution_count": 12,
   "metadata": {
    "pycharm": {
     "is_executing": true,
     "name": "#%%\n"
    }
   },
   "outputs": [
    {
     "name": "stdout",
     "output_type": "stream",
     "text": [
      "Cleared params for layer: Linear(in_features=784, out_features=256, bias=True)\n",
      "Cleared params for layer: Linear(in_features=256, out_features=10, bias=True)\n",
      "train 0 0 2.3055784702301025\n",
      "train 0 100 0.37463387846946716\n",
      "train 0 200 0.2197893112897873\n",
      "test 0 9356 among 10000 correctly classified\n",
      "train 1 0 0.24267105758190155\n",
      "train 1 100 0.13761989772319794\n",
      "train 1 200 0.16283072531223297\n",
      "test 1 9519 among 10000 correctly classified\n",
      "train 2 0 0.1810377836227417\n",
      "train 2 100 0.14056704938411713\n",
      "train 2 200 0.12584422528743744\n",
      "test 2 9640 among 10000 correctly classified\n",
      "train 3 0 0.10312538594007492\n",
      "train 3 100 0.08608712255954742\n",
      "train 3 200 0.14447839558124542\n",
      "test 3 9675 among 10000 correctly classified\n",
      "train 4 0 0.08408903330564499\n",
      "train 4 100 0.08327644318342209\n",
      "train 4 200 0.06393925100564957\n",
      "test 4 9704 among 10000 correctly classified\n",
      "train 5 0 0.047043316066265106\n",
      "train 5 100 0.15358653664588928\n",
      "train 5 200 0.08656259626150131\n",
      "test 5 9736 among 10000 correctly classified\n",
      "train 6 0 0.07372616231441498\n",
      "train 6 100 0.04644584655761719\n",
      "train 6 200 0.05228080227971077\n",
      "test 6 9761 among 10000 correctly classified\n",
      "train 7 0 0.07555605471134186\n",
      "train 7 100 0.052111100405454636\n",
      "train 7 200 0.07493727654218674\n",
      "test 7 9773 among 10000 correctly classified\n",
      "train 8 0 0.03919903188943863\n",
      "train 8 100 0.04547320306301117\n",
      "train 8 200 0.026253147050738335\n",
      "test 8 9780 among 10000 correctly classified\n",
      "train 9 0 0.02850082330405712\n",
      "train 9 100 0.02793589048087597\n",
      "train 9 200 0.035330962389707565\n",
      "test 9 9780 among 10000 correctly classified\n"
     ]
    }
   ],
   "source": [
    "reset_params()\n",
    "adam = optim.Adam(model2.parameters())\n",
    "adam_errors = train(adam)"
   ]
  },
  {
   "cell_type": "markdown",
   "metadata": {
    "pycharm": {
     "name": "#%% md\n"
    }
   },
   "source": [
    "### RMSprop"
   ]
  },
  {
   "cell_type": "code",
   "execution_count": 13,
   "metadata": {
    "pycharm": {
     "is_executing": true,
     "name": "#%%\n"
    }
   },
   "outputs": [
    {
     "name": "stdout",
     "output_type": "stream",
     "text": [
      "Cleared params for layer: Linear(in_features=784, out_features=256, bias=True)\n",
      "Cleared params for layer: Linear(in_features=256, out_features=10, bias=True)\n",
      "train 0 0 2.3054771423339844\n",
      "train 0 100 0.2283172607421875\n",
      "train 0 200 0.23068176209926605\n",
      "test 0 9075 among 10000 correctly classified\n",
      "train 1 0 0.31859931349754333\n",
      "train 1 100 0.30697232484817505\n",
      "train 1 200 0.12496968358755112\n",
      "test 1 9306 among 10000 correctly classified\n",
      "train 2 0 0.15993274748325348\n",
      "train 2 100 0.053349751979112625\n",
      "train 2 200 0.1664884090423584\n",
      "test 2 9660 among 10000 correctly classified\n",
      "train 3 0 0.12741324305534363\n",
      "train 3 100 0.08753622323274612\n",
      "train 3 200 0.05230705067515373\n",
      "test 3 9464 among 10000 correctly classified\n",
      "train 4 0 0.16940735280513763\n",
      "train 4 100 0.19200551509857178\n",
      "train 4 200 0.2271067053079605\n",
      "test 4 9684 among 10000 correctly classified\n",
      "train 5 0 0.0942811444401741\n",
      "train 5 100 0.05424078553915024\n",
      "train 5 200 0.05132380500435829\n",
      "test 5 9715 among 10000 correctly classified\n",
      "train 6 0 0.04740980267524719\n",
      "train 6 100 0.07829682528972626\n",
      "train 6 200 0.023598501458764076\n",
      "test 6 9571 among 10000 correctly classified\n",
      "train 7 0 0.06856876611709595\n",
      "train 7 100 0.03633120656013489\n",
      "train 7 200 0.04184199869632721\n",
      "test 7 9631 among 10000 correctly classified\n",
      "train 8 0 0.08329787105321884\n",
      "train 8 100 0.04845503717660904\n",
      "train 8 200 0.06151541694998741\n",
      "test 8 9703 among 10000 correctly classified\n",
      "train 9 0 0.028813961893320084\n",
      "train 9 100 0.05029141530394554\n",
      "train 9 200 0.030439389869570732\n",
      "test 9 9649 among 10000 correctly classified\n"
     ]
    }
   ],
   "source": [
    "reset_params()\n",
    "rms_prop = optim.RMSprop(model2.parameters())\n",
    "rmsprop_errors = train(rms_prop)"
   ]
  },
  {
   "cell_type": "code",
   "execution_count": 14,
   "metadata": {},
   "outputs": [
    {
     "data": {
      "image/png": "[encoded data removed]",
      "text/plain": [
       "<Figure size 432x288 with 1 Axes>"
      ]
     },
     "metadata": {
      "needs_background": "light"
     },
     "output_type": "display_data"
    }
   ],
   "source": [
    "x = range(1, n_epochs+1)\n",
    "plt.plot(x, sgd_errors, label=\"SGD\")\n",
    "plt.plot(x, sgd_momentum_errors, label=\"SGD Momentum\")\n",
    "plt.plot(x, sgd_momentum_nesterov_errors, label=\"SGD Momentum Nesterov\")\n",
    "plt.plot(x, adagrad_errors, label=\"Adagrad\")\n",
    "plt.plot(x, adadelta_errors, label=\"Adadelta\")\n",
    "plt.plot(x, adam_errors, label=\"Adam\")\n",
    "plt.plot(x, rmsprop_errors, label=\"RMS Prop\")\n",
    "\n",
    "plt.xlabel(\"Epochs\")\n",
    "plt.ylabel(\"Error\")\n",
    "plt.title(\"Test Error\")\n",
    "plt.legend()\n",
    "\n",
    "plt.show()"
   ]
  },
  {
   "cell_type": "markdown",
   "metadata": {},
   "source": [
    "### The accuracy of each optimizer is shown in the plot above"
   ]
  },
  {
   "cell_type": "code",
   "execution_count": 16,
   "metadata": {},
   "outputs": [
    {
     "name": "stdout",
     "output_type": "stream",
     "text": [
      "Accuracies: \n",
      "Accuracy for SGD: 95.22%\n",
      "Accuracy for SGD Momentum: 91.56%\n",
      "Accuracy for SGD Momentum Nesterov: 91.47%\n",
      "Accuracy for Adagrad: 97.11%\n",
      "Accuracy for Adadelta: 97.75%\n",
      "Accuracy for Adam: 97.8%\n",
      "Accuracy for RMS Prop: 96.49%\n"
     ]
    }
   ],
   "source": [
    "accuracies = {\n",
    "    'SGD': sgd_errors[-1],\n",
    "    'SGD Momentum': sgd_momentum_errors[-1],\n",
    "    'SGD Momentum Nesterov': sgd_momentum_nesterov_errors[-1],\n",
    "    'Adagrad': adagrad_errors[-1],\n",
    "    'Adadelta': adadelta_errors[-1],\n",
    "    'Adam': adam_errors[-1],\n",
    "    'RMS Prop': rmsprop_errors[-1],\n",
    "}\n",
    "print(\"Accuracies: \")\n",
    "for key in accuracies:\n",
    "    print(f'Accuracy for {key}: {accuracies[key]*100}%')"
   ]
  },
  {
   "cell_type": "markdown",
   "metadata": {},
   "source": [
    "To compare the optimizers, I ran all the mentioned optimizers instead of any three.\n",
    "\n",
    "The hyperparameters I choose are:\n",
    "  - 0.5 momentum for SGD with momentum and for nesterov.\n",
    "  - Default parameters for the rest (element-wise lr optimizers).\n",
    "\n",
    "### From these results, Adadelta and Adam seem to perform the best."
   ]
  }
 ],
 "metadata": {
  "kernelspec": {
   "display_name": "Python 3",
   "language": "python",
   "name": "python3"
  },
  "language_info": {
   "codemirror_mode": {
    "name": "ipython",
    "version": 3
   },
   "file_extension": ".py",
   "mimetype": "text/x-python",
   "name": "python",
   "nbconvert_exporter": "python",
   "pygments_lexer": "ipython3",
   "version": "3.6.8"
  },
  "pycharm": {
   "stem_cell": {
    "cell_type": "raw",
    "metadata": {
     "collapsed": false
    },
    "source": []
   }
  }
 },
 "nbformat": 4,
 "nbformat_minor": 1
}
