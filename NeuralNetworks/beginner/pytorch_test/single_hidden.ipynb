{
 "cells": [
  {
   "cell_type": "code",
   "execution_count": 1,
   "metadata": {
    "pycharm": {
     "is_executing": false
    }
   },
   "outputs": [],
   "source": [
    "import torch\n",
    "import numpy as np"
   ]
  },
  {
   "cell_type": "code",
   "execution_count": 21,
   "metadata": {
    "pycharm": {
     "is_executing": false
    }
   },
   "outputs": [],
   "source": [
    "data = np.loadtxt('data/iris.txt')\n",
    "np.random.shuffle(data)\n",
    "\n",
    "x = torch.tensor(data[:, :4], dtype=torch.float32)\n",
    "y = torch.tensor(data[:, -1], dtype=torch.float32)\n",
    "y = y.reshape(len(y), 1)\n",
    "\n",
    "split_index = int(len(data) * 0.8) \n",
    "\n",
    "x_train = x[:split_index]\n",
    "x_test = x[split_index:]\n",
    "\n",
    "y_train = y[:split_index]\n",
    "y_test = y[split_index:]"
   ]
  },
  {
   "cell_type": "code",
   "execution_count": 22,
   "outputs": [
    {
     "name": "stdout",
     "text": [
      "X_train shape: torch.Size([120, 4])\n",
      "X_test shape: torch.Size([30, 4])\n",
      "Y_train shape: torch.Size([120, 1])\n",
      "Y_test shape: torch.Size([30, 1])\n"
     ],
     "output_type": "stream"
    }
   ],
   "source": [
    "print(f\"X_train shape: {x_train.shape}\")\n",
    "print(f\"X_test shape: {x_test.shape}\")\n",
    "print(f\"Y_train shape: {y_train.shape}\")\n",
    "print(f\"Y_test shape: {y_test.shape}\")"
   ],
   "metadata": {
    "collapsed": false,
    "pycharm": {
     "name": "#%%\n",
     "is_executing": false
    }
   }
  },
  {
   "cell_type": "code",
   "execution_count": 37,
   "outputs": [
    {
     "data": {
      "text/plain": "(torch.Size([4, 1]), torch.Size([1]))"
     },
     "metadata": {},
     "output_type": "execute_result",
     "execution_count": 37
    }
   ],
   "source": [
    "weights = torch.rand((4, 1), requires_grad=True)\n",
    "biases = torch.rand(1, requires_grad=True)\n",
    "\n",
    "weights.shape, biases.shape"
   ],
   "metadata": {
    "collapsed": false,
    "pycharm": {
     "name": "#%%\n",
     "is_executing": false
    }
   }
  },
  {
   "cell_type": "code",
   "execution_count": 36,
   "outputs": [],
   "source": [
    "learning_rate = 0.1\n",
    "batch_size = 10"
   ],
   "metadata": {
    "collapsed": false,
    "pycharm": {
     "name": "#%%\n",
     "is_executing": false
    }
   }
  },
  {
   "cell_type": "code",
   "execution_count": 38,
   "outputs": [
    {
     "name": "stdout",
     "text": [
      "Epoch = 0 | Loss = tensor([203.9676], grad_fn=<AddBackward0>)\n",
      "Epoch = 1 | Loss = tensor([203.9633], grad_fn=<AddBackward0>)\n",
      "Epoch = 2 | Loss = tensor([203.9576], grad_fn=<AddBackward0>)\n",
      "Epoch = 3 | Loss = tensor([203.9500], grad_fn=<AddBackward0>)\n",
      "Epoch = 4 | Loss = tensor([203.9388], grad_fn=<AddBackward0>)\n"
     ],
     "output_type": "stream"
    }
   ],
   "source": [
    "for epoch in range(5):\n",
    "    total_loss = 0\n",
    "    for batch_i in range(0, len(x_train), batch_size):\n",
    "        x_batch = x_train[batch_i:batch_i+batch_size]\n",
    "        y_batch = y_train[batch_i:batch_i+batch_size]\n",
    "\n",
    "        y_hat = torch.sigmoid(torch.mm(x_batch, weights) + biases)\n",
    "        \n",
    "        loss = sum((y_hat - y_batch) ** 2)\n",
    "        \n",
    "        loss.backward()\n",
    "        total_loss += loss\n",
    "        total_loss.detach()\n",
    "        \n",
    "        weights = weights - learning_rate * weights.grad\n",
    "        biases = biases - learning_rate * biases.grad\n",
    "        \n",
    "        weights = weights.detach().requires_grad_()\n",
    "        biases = biases.detach().requires_grad_()\n",
    "    \n",
    "    print(f\"Epoch = {epoch} | Loss = {total_loss}\")"
   ],
   "metadata": {
    "collapsed": false,
    "pycharm": {
     "name": "#%%\n",
     "is_executing": false
    }
   }
  },
  {
   "cell_type": "code",
   "execution_count": null,
   "outputs": [],
   "source": [
    "\n"
   ],
   "metadata": {
    "collapsed": false,
    "pycharm": {
     "name": "#%%\n"
    }
   }
  }
 ],
 "metadata": {
  "kernelspec": {
   "display_name": "Python 3",
   "language": "python",
   "name": "python3"
  },
  "language_info": {
   "codemirror_mode": {
    "name": "ipython",
    "version": 3
   },
   "file_extension": ".py",
   "mimetype": "text/x-python",
   "name": "python",
   "nbconvert_exporter": "python",
   "pygments_lexer": "ipython3",
   "version": "3.6.9"
  },
  "pycharm": {
   "stem_cell": {
    "cell_type": "raw",
    "source": [],
    "metadata": {
     "collapsed": false
    }
   }
  }
 },
 "nbformat": 4,
 "nbformat_minor": 4
}